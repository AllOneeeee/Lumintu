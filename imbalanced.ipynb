{
 "cells": [
  {
   "cell_type": "code",
   "execution_count": 40,
   "metadata": {},
   "outputs": [
    {
     "name": "stdout",
     "output_type": "stream",
     "text": [
      "{'labeled_data_size': 18, 'unlabeld_data_size': 18, 'num_train_epochs': 10}\n"
     ]
    }
   ],
   "source": [
    "import time\n",
    "\n",
    "# training dataset\n",
    "labeled_data_size = 18\n",
    "unlabeled_data_size = 18\n",
    "# training hyperparameter\n",
    "num_train_epochs = 10\n",
    "\n",
    "# dict_settings\n",
    "dict_settings = {\n",
    "    'labeled_data_size':labeled_data_size,\n",
    "    'unlabeld_data_size':unlabeled_data_size,\n",
    "    'num_train_epochs':num_train_epochs\n",
    "}\n",
    "\n",
    "print(dict_settings)\n",
    "\n",
    "entire_notebook_t0 = time.time()"
   ]
  },
  {
   "cell_type": "code",
   "execution_count": null,
   "metadata": {},
   "outputs": [],
   "source": [
    "# import tensorflow as tf\n",
    "\n",
    "# # Get the GPU device name.\n",
    "# device_name = tf.test.gpu_device_name()\n",
    "\n",
    "# # The device name should look like the following:\n",
    "# assert device_name == '/device:GPU:0'\n",
    "# print('Found GPU at: {}'.format(device_name))"
   ]
  },
  {
   "cell_type": "code",
   "execution_count": null,
   "metadata": {},
   "outputs": [],
   "source": [
    "# import torch\n",
    "\n",
    "# assert torch.cuda.is_available()\n",
    "\n",
    "# # Tell torch to use GPU\n",
    "# device = torch.device(\"cuda\")\n",
    "# print('Running GPU: {}'.format(torch.cuda.get_device_name()))"
   ]
  },
  {
   "cell_type": "code",
   "execution_count": 46,
   "metadata": {},
   "outputs": [],
   "source": [
    "# import essential modules\n",
    "import torch\n",
    "import torch.nn.functional as F\n",
    "import torch.nn as nn\n",
    "from torch.utils.data import TensorDataset, DataLoader, RandomSampler, SequentialSampler\n",
    "\n",
    "import random\n",
    "import numpy as np\n",
    "import pandas as pd\n",
    "\n",
    "import time\n",
    "import math\n",
    "import datetime\n",
    "import seaborn as sns\n",
    "\n",
    "import os"
   ]
  },
  {
   "cell_type": "code",
   "execution_count": 62,
   "metadata": {},
   "outputs": [
    {
     "data": {
      "text/plain": [
       "<torch._C.Generator at 0x1182e4ef0>"
      ]
     },
     "execution_count": 62,
     "metadata": {},
     "output_type": "execute_result"
    }
   ],
   "source": [
    "# Set randon seed\n",
    "seed = 1\n",
    "\n",
    "random.seed(seed)\n",
    "np.random.seed(seed)\n",
    "torch.manual_seed(seed)"
   ]
  },
  {
   "cell_type": "code",
   "execution_count": 31,
   "metadata": {},
   "outputs": [],
   "source": [
    "data_path = os.path.join('data')\n",
    "train_name = 'train_cleaned.csv'\n",
    "df = pd.read_csv(os.path.join(data_path, train_name), delimiter=',').dropna()"
   ]
  },
  {
   "cell_type": "code",
   "execution_count": 32,
   "metadata": {},
   "outputs": [
    {
     "name": "stdout",
     "output_type": "stream",
     "text": [
      "Number of different classes: 8\n"
     ]
    }
   ],
   "source": [
    "# Mapping the class to label code\n",
    "# Label Encdoing\n",
    "class_map={'Demografi':0, 'Ekonomi':1, 'Geografi':2, 'Ideologi':3, 'Pertahanan dan Keamanan':4,\n",
    "          'Politik':5, 'Sosial Budaya':6, 'Sumber Daya Alam':7}\n",
    "\n",
    "# Show number of different classes\n",
    "n_classes = len(class_map)\n",
    "print('Number of different classes: {}'.format(n_classes))\n",
    "\n",
    "# Mapping the class names\n",
    "df['label'] = df['label'].map(class_map)\n"
   ]
  },
  {
   "cell_type": "code",
   "execution_count": 58,
   "metadata": {},
   "outputs": [
    {
     "data": {
      "text/html": [
       "<div>\n",
       "<style scoped>\n",
       "    .dataframe tbody tr th:only-of-type {\n",
       "        vertical-align: middle;\n",
       "    }\n",
       "\n",
       "    .dataframe tbody tr th {\n",
       "        vertical-align: top;\n",
       "    }\n",
       "\n",
       "    .dataframe thead th {\n",
       "        text-align: right;\n",
       "    }\n",
       "</style>\n",
       "<table border=\"1\" class=\"dataframe\">\n",
       "  <thead>\n",
       "    <tr style=\"text-align: right;\">\n",
       "      <th></th>\n",
       "      <th>text</th>\n",
       "      <th>label</th>\n",
       "    </tr>\n",
       "  </thead>\n",
       "  <tbody>\n",
       "    <tr>\n",
       "      <th>238</th>\n",
       "      <td>malam ganjar salawatan istighosah bareng puluh...</td>\n",
       "      <td>2</td>\n",
       "    </tr>\n",
       "    <tr>\n",
       "      <th>304</th>\n",
       "      <td>golputpilih capres ganjar pranowo mahfud ganja...</td>\n",
       "      <td>2</td>\n",
       "    </tr>\n",
       "    <tr>\n",
       "      <th>529</th>\n",
       "      <td>tiktok bilang anies kepengen bangun jakarta pr...</td>\n",
       "      <td>2</td>\n",
       "    </tr>\n",
       "    <tr>\n",
       "      <th>832</th>\n",
       "      <td>kuliah gratis dampaknya tinggal pelosokkalau m...</td>\n",
       "      <td>2</td>\n",
       "    </tr>\n",
       "    <tr>\n",
       "      <th>920</th>\n",
       "      <td>ngertipasti panen tanahnya prabowo prabowo bil...</td>\n",
       "      <td>2</td>\n",
       "    </tr>\n",
       "    <tr>\n",
       "      <th>1180</th>\n",
       "      <td>gblok pulau reklamasi berjalan dipermasalahina...</td>\n",
       "      <td>2</td>\n",
       "    </tr>\n",
       "    <tr>\n",
       "      <th>1607</th>\n",
       "      <td>sumbernya estate gunung kalteng penanggung pra...</td>\n",
       "      <td>2</td>\n",
       "    </tr>\n",
       "    <tr>\n",
       "      <th>2046</th>\n",
       "      <td>marah2 anies pulau reklamasi diusik pembuktian...</td>\n",
       "      <td>2</td>\n",
       "    </tr>\n",
       "    <tr>\n",
       "      <th>2142</th>\n",
       "      <td>temen komentar anies janji doangmanisaslinya c...</td>\n",
       "      <td>2</td>\n",
       "    </tr>\n",
       "    <tr>\n",
       "      <th>2582</th>\n",
       "      <td>ditakedown jakarta bekasivideotron anies muncu...</td>\n",
       "      <td>2</td>\n",
       "    </tr>\n",
       "    <tr>\n",
       "      <th>2633</th>\n",
       "      <td>pendukung anies semangaaat bentar sampe puncak...</td>\n",
       "      <td>2</td>\n",
       "    </tr>\n",
       "    <tr>\n",
       "      <th>2811</th>\n",
       "      <td>islam mendukung anies baswedan bayangkan kesul...</td>\n",
       "      <td>2</td>\n",
       "    </tr>\n",
       "    <tr>\n",
       "      <th>2905</th>\n",
       "      <td>pindah dapet rezeki mudah2an jakartabandung ka...</td>\n",
       "      <td>2</td>\n",
       "    </tr>\n",
       "    <tr>\n",
       "      <th>3003</th>\n",
       "      <td>pulau sebira diperhatikan zaman gubernur anies...</td>\n",
       "      <td>2</td>\n",
       "    </tr>\n",
       "    <tr>\n",
       "      <th>3432</th>\n",
       "      <td>politiknya lihat anies anies jakartasuriah</td>\n",
       "      <td>2</td>\n",
       "    </tr>\n",
       "    <tr>\n",
       "      <th>3662</th>\n",
       "      <td>ganjar mahfudtitip dipikirkan gagasannya progr...</td>\n",
       "      <td>2</td>\n",
       "    </tr>\n",
       "    <tr>\n",
       "      <th>4124</th>\n",
       "      <td>kampung aeangedeket bukit tinggikamoung petani...</td>\n",
       "      <td>2</td>\n",
       "    </tr>\n",
       "    <tr>\n",
       "      <th>4440</th>\n",
       "      <td>pulau jalan duluan sblum anies pulau diatur in...</td>\n",
       "      <td>2</td>\n",
       "    </tr>\n",
       "  </tbody>\n",
       "</table>\n",
       "</div>"
      ],
      "text/plain": [
       "                                                   text  label\n",
       "238   malam ganjar salawatan istighosah bareng puluh...      2\n",
       "304   golputpilih capres ganjar pranowo mahfud ganja...      2\n",
       "529   tiktok bilang anies kepengen bangun jakarta pr...      2\n",
       "832   kuliah gratis dampaknya tinggal pelosokkalau m...      2\n",
       "920   ngertipasti panen tanahnya prabowo prabowo bil...      2\n",
       "1180  gblok pulau reklamasi berjalan dipermasalahina...      2\n",
       "1607  sumbernya estate gunung kalteng penanggung pra...      2\n",
       "2046  marah2 anies pulau reklamasi diusik pembuktian...      2\n",
       "2142  temen komentar anies janji doangmanisaslinya c...      2\n",
       "2582  ditakedown jakarta bekasivideotron anies muncu...      2\n",
       "2633  pendukung anies semangaaat bentar sampe puncak...      2\n",
       "2811  islam mendukung anies baswedan bayangkan kesul...      2\n",
       "2905  pindah dapet rezeki mudah2an jakartabandung ka...      2\n",
       "3003  pulau sebira diperhatikan zaman gubernur anies...      2\n",
       "3432         politiknya lihat anies anies jakartasuriah      2\n",
       "3662  ganjar mahfudtitip dipikirkan gagasannya progr...      2\n",
       "4124  kampung aeangedeket bukit tinggikamoung petani...      2\n",
       "4440  pulau jalan duluan sblum anies pulau diatur in...      2"
      ]
     },
     "execution_count": 58,
     "metadata": {},
     "output_type": "execute_result"
    }
   ],
   "source": [
    "df[df['label']==2]"
   ]
  },
  {
   "cell_type": "code",
   "execution_count": 33,
   "metadata": {},
   "outputs": [
    {
     "data": {
      "text/plain": [
       "label\n",
       "5    2969\n",
       "6     584\n",
       "4     400\n",
       "3     400\n",
       "1     366\n",
       "7     191\n",
       "0      62\n",
       "2      18\n",
       "Name: count, dtype: int64"
      ]
     },
     "execution_count": 33,
     "metadata": {},
     "output_type": "execute_result"
    }
   ],
   "source": [
    "df['label'].value_counts()"
   ]
  },
  {
   "cell_type": "code",
   "execution_count": 49,
   "metadata": {},
   "outputs": [],
   "source": [
    "for i in range(0,8):\n",
    "    df_temp = df[df['label'] == i].sample(labeled_data_size)\n",
    "    df_sampled = pd.concat((df_sampled, df_temp))"
   ]
  },
  {
   "cell_type": "code",
   "execution_count": 52,
   "metadata": {},
   "outputs": [
    {
     "name": "stdout",
     "output_type": "stream",
     "text": [
      "Number of data entries: 414\n"
     ]
    },
    {
     "data": {
      "text/plain": [
       "label\n",
       "1    72\n",
       "0    54\n",
       "2    54\n",
       "3    54\n",
       "4    54\n",
       "5    54\n",
       "6    54\n",
       "7    18\n",
       "Name: count, dtype: int64"
      ]
     },
     "execution_count": 52,
     "metadata": {},
     "output_type": "execute_result"
    }
   ],
   "source": [
    "# Show class countplo\n",
    "print('Number of data entries: {}'.format(len(df_sampled)))\n",
    "df_sampled['label'].value_counts()"
   ]
  },
  {
   "cell_type": "code",
   "execution_count": 63,
   "metadata": {},
   "outputs": [
    {
     "data": {
      "text/html": [
       "<div>\n",
       "<style scoped>\n",
       "    .dataframe tbody tr th:only-of-type {\n",
       "        vertical-align: middle;\n",
       "    }\n",
       "\n",
       "    .dataframe tbody tr th {\n",
       "        vertical-align: top;\n",
       "    }\n",
       "\n",
       "    .dataframe thead th {\n",
       "        text-align: right;\n",
       "    }\n",
       "</style>\n",
       "<table border=\"1\" class=\"dataframe\">\n",
       "  <thead>\n",
       "    <tr style=\"text-align: right;\">\n",
       "      <th></th>\n",
       "      <th>text</th>\n",
       "      <th>label</th>\n",
       "    </tr>\n",
       "  </thead>\n",
       "  <tbody>\n",
       "    <tr>\n",
       "      <th>2800</th>\n",
       "      <td>hadeh anies poros panislamisme</td>\n",
       "      <td>Geografi</td>\n",
       "    </tr>\n",
       "    <tr>\n",
       "      <th>2988</th>\n",
       "      <td>pemahaman mendasar program setara jakarta sala...</td>\n",
       "      <td>Geografi</td>\n",
       "    </tr>\n",
       "    <tr>\n",
       "      <th>4134</th>\n",
       "      <td>dukungan ganjarmahfud mengungkap kebenaran sem...</td>\n",
       "      <td>Geografi</td>\n",
       "    </tr>\n",
       "    <tr>\n",
       "      <th>4288</th>\n",
       "      <td>musim kampanye mentan berhasil bahan kampanye ...</td>\n",
       "      <td>Geografi</td>\n",
       "    </tr>\n",
       "    <tr>\n",
       "      <th>4260</th>\n",
       "      <td>point jakarta mayoritasummat islam memusuhi um...</td>\n",
       "      <td>Geografi</td>\n",
       "    </tr>\n",
       "    <tr>\n",
       "      <th>4186</th>\n",
       "      <td>hadiri konsolidasi demokrat sulsel instruksi m...</td>\n",
       "      <td>Geografi</td>\n",
       "    </tr>\n",
       "    <tr>\n",
       "      <th>2122</th>\n",
       "      <td>anies concern ketimpangan kepemilikan tanah pr...</td>\n",
       "      <td>Geografi</td>\n",
       "    </tr>\n",
       "    <tr>\n",
       "      <th>1743</th>\n",
       "      <td>capres ganjar pranowo memandang rakyat sumber ...</td>\n",
       "      <td>Geografi</td>\n",
       "    </tr>\n",
       "    <tr>\n",
       "      <th>1383</th>\n",
       "      <td>masuknya ketua pengajian tasawuf tarekat naqsa...</td>\n",
       "      <td>Geografi</td>\n",
       "    </tr>\n",
       "    <tr>\n",
       "      <th>4063</th>\n",
       "      <td>kunci harga rakyat angkat aniesbukan pemilik t...</td>\n",
       "      <td>Geografi</td>\n",
       "    </tr>\n",
       "    <tr>\n",
       "      <th>4127</th>\n",
       "      <td>pendukung anies baswedan hujan becek semangatb...</td>\n",
       "      <td>Geografi</td>\n",
       "    </tr>\n",
       "    <tr>\n",
       "      <th>4222</th>\n",
       "      <td>prabowogibran meraih kemajuan besarkosongduasa...</td>\n",
       "      <td>Geografi</td>\n",
       "    </tr>\n",
       "    <tr>\n",
       "      <th>1142</th>\n",
       "      <td>teman2 ngoyojangan lemahjangan calon jalan ber...</td>\n",
       "      <td>Geografi</td>\n",
       "    </tr>\n",
       "    <tr>\n",
       "      <th>3969</th>\n",
       "      <td>omong doang program nyataganjar pranowosolusi ...</td>\n",
       "      <td>Geografi</td>\n",
       "    </tr>\n",
       "    <tr>\n",
       "      <th>1748</th>\n",
       "      <td>membludak warga ciamis bertemu anies kamis jan...</td>\n",
       "      <td>Geografi</td>\n",
       "    </tr>\n",
       "    <tr>\n",
       "      <th>1611</th>\n",
       "      <td>memilih pemimpin tepatmenurut arsjad rasjidber...</td>\n",
       "      <td>Geografi</td>\n",
       "    </tr>\n",
       "    <tr>\n",
       "      <th>4746</th>\n",
       "      <td>jokowi turun gunung menaikkan elektabilitas pr...</td>\n",
       "      <td>Geografi</td>\n",
       "    </tr>\n",
       "    <tr>\n",
       "      <th>4066</th>\n",
       "      <td>anies cyber security masuk sektor pertahanan b...</td>\n",
       "      <td>Geografi</td>\n",
       "    </tr>\n",
       "  </tbody>\n",
       "</table>\n",
       "</div>"
      ],
      "text/plain": [
       "                                                   text     label\n",
       "2800                     hadeh anies poros panislamisme  Geografi\n",
       "2988  pemahaman mendasar program setara jakarta sala...  Geografi\n",
       "4134  dukungan ganjarmahfud mengungkap kebenaran sem...  Geografi\n",
       "4288  musim kampanye mentan berhasil bahan kampanye ...  Geografi\n",
       "4260  point jakarta mayoritasummat islam memusuhi um...  Geografi\n",
       "4186  hadiri konsolidasi demokrat sulsel instruksi m...  Geografi\n",
       "2122  anies concern ketimpangan kepemilikan tanah pr...  Geografi\n",
       "1743  capres ganjar pranowo memandang rakyat sumber ...  Geografi\n",
       "1383  masuknya ketua pengajian tasawuf tarekat naqsa...  Geografi\n",
       "4063  kunci harga rakyat angkat aniesbukan pemilik t...  Geografi\n",
       "4127  pendukung anies baswedan hujan becek semangatb...  Geografi\n",
       "4222  prabowogibran meraih kemajuan besarkosongduasa...  Geografi\n",
       "1142  teman2 ngoyojangan lemahjangan calon jalan ber...  Geografi\n",
       "3969  omong doang program nyataganjar pranowosolusi ...  Geografi\n",
       "1748  membludak warga ciamis bertemu anies kamis jan...  Geografi\n",
       "1611  memilih pemimpin tepatmenurut arsjad rasjidber...  Geografi\n",
       "4746  jokowi turun gunung menaikkan elektabilitas pr...  Geografi\n",
       "4066  anies cyber security masuk sektor pertahanan b...  Geografi"
      ]
     },
     "execution_count": 63,
     "metadata": {},
     "output_type": "execute_result"
    }
   ],
   "source": [
    "# Randomly choose 15k data entries which will be converted into unlabled data\n",
    "df_unlabeled = df.sample(unlabeled_data_size)\n",
    "\n",
    "# Convert class to UNK\n",
    "df_unlabeled['label'] = 'Geografi'\n",
    "\n",
    "df_unlabeled"
   ]
  },
  {
   "cell_type": "code",
   "execution_count": 65,
   "metadata": {},
   "outputs": [
    {
     "name": "stdout",
     "output_type": "stream",
     "text": [
      "(331, 2)\n",
      "(18, 2)\n",
      "(83, 2)\n"
     ]
    }
   ],
   "source": [
    "# Split 20% of data from the df_sample as val_data\n",
    "from sklearn.model_selection import train_test_split\n",
    "\n",
    "df_labeled, df_val = train_test_split(df_sampled,\n",
    "                                    test_size=0.2,\n",
    "                                    random_state=1,\n",
    "                                    stratify=df_sampled['label'])\n",
    "\n",
    "for item in df_labeled, df_unlabeled, df_val:\n",
    "    print(item.shape)"
   ]
  },
  {
   "cell_type": "code",
   "execution_count": 66,
   "metadata": {},
   "outputs": [],
   "source": [
    "model_name = 'indobenchmark/indobert-base-p1'\n",
    "\n",
    "from transformers import BertModel, BertTokenizer\n",
    "\n",
    "# Load BERT tokenizer\n",
    "transformer = BertModel.from_pretrained(model_name)\n",
    "tokenizer = BertTokenizer.from_pretrained(model_name)"
   ]
  },
  {
   "cell_type": "code",
   "execution_count": 76,
   "metadata": {},
   "outputs": [],
   "source": [
    "# Combine df_labeled and df_unlabeled into the train_dataloader\n",
    "df_train = pd.concat((df_labeled, df_unlabeled))\n",
    "\n",
    "# Convert UNK to class zero\n",
    "df_train['label'] = df_train['label'].apply(lambda x: 2 if x=='Geografi' else x)\n",
    "\n",
    "# Create a new column for label_mask\n",
    "def generate_label_mask(label):\n",
    "    if label == 2:\n",
    "        return 2\n",
    "    else:\n",
    "        return 1\n",
    "\n",
    "df_train['label_mask'] = df_train['label'].apply(generate_label_mask)\n",
    "\n",
    "# # Show label_mask distribution\n",
    "# import matplotlib.pyplot as plt\n",
    "# plt.subplot(1,2,1)\n",
    "# sns.countplot(df_train['label_mask'])\n",
    "# plt.title('df_train label mask')\n",
    "\n",
    "# # Generate label mask for df_val\n",
    "df_val['label_mask'] = df_val['label'].apply(generate_label_mask)\n",
    "\n",
    "# # Show label_mask distribution\n",
    "# plt.subplot(1,2,2)\n",
    "# sns.countplot(df_val['label_mask'])\n",
    "# plt.title('df_val label mask')"
   ]
  },
  {
   "cell_type": "code",
   "execution_count": 71,
   "metadata": {},
   "outputs": [
    {
     "data": {
      "text/plain": [
       "1601    3\n",
       "2145    6\n",
       "1843    1\n",
       "2960    0\n",
       "3562    1\n",
       "       ..\n",
       "3969    2\n",
       "1748    2\n",
       "1611    2\n",
       "4746    2\n",
       "4066    2\n",
       "Name: label, Length: 349, dtype: int64"
      ]
     },
     "execution_count": 71,
     "metadata": {},
     "output_type": "execute_result"
    }
   ],
   "source": [
    "df_train['label']"
   ]
  }
 ],
 "metadata": {
  "kernelspec": {
   "display_name": "Python 3",
   "language": "python",
   "name": "python3"
  },
  "language_info": {
   "codemirror_mode": {
    "name": "ipython",
    "version": 3
   },
   "file_extension": ".py",
   "mimetype": "text/x-python",
   "name": "python",
   "nbconvert_exporter": "python",
   "pygments_lexer": "ipython3",
   "version": "3.8.10"
  },
  "orig_nbformat": 4
 },
 "nbformat": 4,
 "nbformat_minor": 2
}
