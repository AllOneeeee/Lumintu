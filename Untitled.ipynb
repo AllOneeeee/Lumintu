{
 "cells": [
  {
   "cell_type": "code",
   "execution_count": 3,
   "metadata": {},
   "outputs": [],
   "source": [
    "import pandas as pd\n",
    "import numpy as np\n",
    "\n",
    "import torch\n",
    "from tqdm import tqdm\n",
    "# from tf2crf import CRF\n",
    "\n",
    "import gc\n",
    "\n",
    "# from imblearn.under_sampling import RandomUnderSampler\n",
    "from sklearn.utils.class_weight import compute_class_weight\n",
    "\n",
    "import tensorflow as tf\n",
    "from tensorflow.keras.optimizers import Adam\n",
    "from tensorflow.keras.models import Sequential\n",
    "from tensorflow.keras.layers import Embedding, Conv1D, MaxPooling1D, Flatten, Dropout, Dense, TimeDistributed, MaxPool1D\n",
    "from tensorflow.keras.callbacks import ModelCheckpoint,TensorBoard,EarlyStopping\n",
    "from tensorflow.keras.preprocessing.sequence import pad_sequences\n",
    "# from tensorflow.keras.layers import Dense, Flatten, Embedding, Input, LSTM, Conv1D, MaxPool1D, Bidirectional, Dropout, BatchNormalization\n",
    "\n",
    "\n",
    "# from skmultilearn.problem_transform import LabelPowerset\n",
    "# from sklearn.multioutput import ClassifierChain\n",
    "\n",
    "from sklearn.model_selection import train_test_split\n",
    "from sklearn.feature_extraction.text import TfidfVectorizer\n",
    "from sklearn import svm\n",
    "from sklearn.metrics import classification_report, confusion_matrix, accuracy_score, hamming_loss, f1_score\n",
    "from sklearn.preprocessing import LabelEncoder\n",
    "\n",
    "# from imblearn.over_sampling import SMOTE\n",
    "\n",
    "from keras import layers\n",
    "import keras\n",
    "from keras.utils import to_categorical\n",
    "from keras_preprocessing import sequence\n",
    "from keras_preprocessing.text import Tokenizer\n",
    "from keras.layers import Dense, Input, LSTM, Embedding, Dropout, Activation\n",
    "from keras.layers import Bidirectional, GlobalMaxPool1D\n",
    "from keras.models import Model\n",
    "\n",
    "import seaborn as sns\n",
    "# import xgboost as xgb\n",
    "from sklearn.linear_model import LogisticRegression\n",
    "# from skmultilearn.problem_transform import BinaryRelevance\n",
    "\n",
    "from transformers import BertTokenizer, BertModel\n",
    "\n",
    "from nltk.tokenize import word_tokenize\n",
    "import os\n",
    "\n",
    "import matplotlib.pyplot as plt"
   ]
  },
  {
   "cell_type": "code",
   "execution_count": 4,
   "id": "9981fad0",
   "metadata": {},
   "outputs": [
    {
     "name": "stdout",
     "output_type": "stream",
     "text": [
      "[PhysicalDevice(name='/physical_device:CPU:0', device_type='CPU')]\n",
      "2.13.0\n"
     ]
    }
   ],
   "source": [
    "# Check for TensorFlow GPU access\n",
    "print(tf.config.list_physical_devices())\n",
    "\n",
    "# See TensorFlow version\n",
    "print(tf.__version__)"
   ]
  },
  {
   "cell_type": "code",
   "execution_count": 5,
   "id": "390d4fab",
   "metadata": {},
   "outputs": [],
   "source": [
    "data_path = os.path.join('data')\n",
    "train_name = 'train_cleaned.csv'\n",
    "df = pd.read_csv(os.path.join(data_path, train_name), delimiter=',').dropna()"
   ]
  },
  {
   "cell_type": "code",
   "execution_count": 6,
   "id": "b4b3e1cb",
   "metadata": {},
   "outputs": [
    {
     "name": "stdout",
     "output_type": "stream",
     "text": [
      "Number of different classes: 8\n"
     ]
    }
   ],
   "source": [
    "class_map={'Demografi':0, 'Ekonomi':1, 'Geografi':2, 'Ideologi':3, 'Pertahanan dan Keamanan':4,\n",
    "          'Politik':5, 'Sosial Budaya':6, 'Sumber Daya Alam':7}\n",
    "\n",
    "# Show number of different classes\n",
    "n_classes = len(class_map)\n",
    "print('Number of different classes: {}'.format(n_classes))\n",
    "\n",
    "# Mapping the class names\n",
    "df['label'] = df['label'].map(class_map)"
   ]
  },
  {
   "cell_type": "code",
   "execution_count": 7,
   "id": "8e7d5438",
   "metadata": {},
   "outputs": [
    {
     "data": {
      "image/png": "[encoded data removed]",
      "text/plain": [
       "<Figure size 640x480 with 1 Axes>"
      ]
     },
     "metadata": {},
     "output_type": "display_data"
    },
    {
     "name": "stdout",
     "output_type": "stream",
     "text": [
      "(4750, 2)\n"
     ]
    }
   ],
   "source": [
    "def count_words(text):\n",
    "    return len(word_tokenize(text))\n",
    "\n",
    "df['word_count'] = df['text'].apply(count_words)\n",
    "\n",
    "# Menghitung Q1, Q3, dan IQR\n",
    "Q1 = df['word_count'].quantile(0.25)\n",
    "Q3 = df['word_count'].quantile(0.75)\n",
    "IQR = Q3 - Q1\n",
    "\n",
    "# Mendefinisikan batas bawah dan batas atas untuk outlier\n",
    "lower_bound = Q1 - 1.5 * IQR\n",
    "upper_bound = Q3 + 1.5 * IQR\n",
    "\n",
    "# Menghapus outlier\n",
    "train_filtered = df[(df['word_count'] >= lower_bound) & (df['word_count'] <= upper_bound)]\n",
    "\n",
    "# Menampilkan histogram tanpa outlier\n",
    "plt.hist(train_filtered['word_count'], bins=range(int(lower_bound), int(upper_bound) + 2), edgecolor='black')\n",
    "plt.title('Distribusi Jumlah Kata per Record tanpa Outlier')\n",
    "plt.xlabel('Jumlah Kata')\n",
    "plt.ylabel('Frekuensi')\n",
    "plt.show()\n",
    "train_filtered = train_filtered.drop(columns=['word_count'], axis=1)\n",
    "print(train_filtered.shape)"
   ]
  },
  {
   "cell_type": "code",
   "execution_count": 8,
   "id": "f7b033f3",
   "metadata": {},
   "outputs": [
    {
     "name": "stdout",
     "output_type": "stream",
     "text": [
      "Total jumlah kata di seluruh kolom teks: 73856\n"
     ]
    }
   ],
   "source": [
    "def hitung_kata(teks):\n",
    "    if pd.isna(teks):\n",
    "        return 0\n",
    "    return len(teks.split())\n",
    "\n",
    "# Menerapkan fungsi ke kolom teks untuk menghitung jumlah kata\n",
    "df['jumlah_kata'] = df['text'].apply(hitung_kata)\n",
    "\n",
    "# Menghitung total kata di seluruh kolom teks\n",
    "total_kata = df['jumlah_kata'].sum()\n",
    "\n",
    "print(f'Total jumlah kata di seluruh kolom teks: {total_kata}')"
   ]
  },
  {
   "cell_type": "code",
   "execution_count": 9,
   "id": "eabc0117",
   "metadata": {},
   "outputs": [],
   "source": [
    "df = df.drop(columns=['word_count', 'jumlah_kata'], axis=1)"
   ]
  },
  {
   "cell_type": "code",
   "execution_count": 10,
   "id": "585be381",
   "metadata": {},
   "outputs": [
    {
     "name": "stdout",
     "output_type": "stream",
     "text": [
      "trainset size: (3194, 2)\n",
      "valset size: (798, 2)\n",
      "testset size: (998, 2)\n"
     ]
    }
   ],
   "source": [
    "train_val_df = df.sample(frac = 0.8)\n",
    "test_df = df.drop(train_val_df.index)\n",
    "\n",
    "train_df = train_val_df.sample(frac = 0.8)\n",
    "val_df = train_val_df.drop(train_df.index)\n",
    "\n",
    "# Reset Index\n",
    "train_df = train_df.reset_index(drop=True)\n",
    "val_df = val_df.reset_index(drop=True)\n",
    "test_df = test_df.reset_index(drop=True)\n",
    "\n",
    "print('trainset size:', train_df.shape)\n",
    "print('valset size:', val_df.shape)\n",
    "print('testset size:', test_df.shape)"
   ]
  },
  {
   "cell_type": "code",
   "execution_count": 11,
   "id": "8987dd13",
   "metadata": {},
   "outputs": [],
   "source": [
    "from tensorflow.keras.preprocessing.text import one_hot, Tokenizer\n",
    "\n",
    "# Creating A Tokenizer To Tokenize The Words And Create Sequences Of Tokenized Words\n",
    "tokenizer = Tokenizer(num_words = total_kata)\n",
    "tokenizer.fit_on_texts(train_df['text'])\n",
    "\n",
    "train_sequences = tokenizer.texts_to_sequences(train_df['text'])\n",
    "val_sequences = tokenizer.texts_to_sequences(val_df['text'])\n",
    "test_sequences = tokenizer.texts_to_sequences(test_df['text'])"
   ]
  },
  {
   "cell_type": "code",
   "execution_count": 12,
   "id": "698e6be8",
   "metadata": {},
   "outputs": [],
   "source": [
    "from tensorflow.keras.preprocessing.sequence import pad_sequences\n",
    "\n",
    "# Adding Padding\n",
    "padded_train = pad_sequences(train_sequences,maxlen = 42, padding = 'post', truncating = 'post')\n",
    "padded_val = pad_sequences(val_sequences,maxlen = 42, padding = 'post', truncating = 'post')\n",
    "padded_test = pad_sequences(test_sequences,maxlen = 42, padding = 'post', truncating = 'post')"
   ]
  },
  {
   "cell_type": "code",
   "execution_count": 13,
   "id": "be393ae1",
   "metadata": {},
   "outputs": [
    {
     "name": "stdout",
     "output_type": "stream",
     "text": [
      "Model: \"sequential\"\n",
      "_________________________________________________________________\n",
      " Layer (type)                Output Shape              Param #   \n",
      "=================================================================\n",
      " embedding (Embedding)       (None, 42, 40)            2954240   \n",
      "                                                                 \n",
      " dropout (Dropout)           (None, 42, 40)            0         \n",
      "                                                                 \n",
      " lstm (LSTM)                 (None, 100)               56400     \n",
      "                                                                 \n",
      " dropout_1 (Dropout)         (None, 100)               0         \n",
      "                                                                 \n",
      " dense (Dense)               (None, 8)                 808       \n",
      "                                                                 \n",
      "=================================================================\n",
      "Total params: 3011448 (11.49 MB)\n",
      "Trainable params: 3011448 (11.49 MB)\n",
      "Non-trainable params: 0 (0.00 Byte)\n",
      "_________________________________________________________________\n",
      "None\n"
     ]
    }
   ],
   "source": [
    "## Creating model Using LSTM\n",
    "embedding_vector_features=40\n",
    "model=Sequential()\n",
    "model.add(Embedding(total_kata,embedding_vector_features,input_length=42))\n",
    "model.add(Dropout(0.3))\n",
    "model.add(LSTM(100))\n",
    "model.add(Dropout(0.3))\n",
    "model.add(Dense(8,activation='softmax'))\n",
    "model.compile(loss='sparse_categorical_crossentropy',optimizer='adam',metrics=['accuracy'])\n",
    "print(model.summary())"
   ]
  },
  {
   "cell_type": "code",
   "execution_count": 14,
   "id": "e1e595be",
   "metadata": {},
   "outputs": [
    {
     "name": "stdout",
     "output_type": "stream",
     "text": [
      "Epoch 1/30\n",
      "50/50 [==============================] - 4s 50ms/step - loss: 1.5328 - accuracy: 0.5836 - val_loss: 1.3842 - val_accuracy: 0.5802\n",
      "Epoch 2/30\n",
      "50/50 [==============================] - 2s 42ms/step - loss: 1.3673 - accuracy: 0.5946 - val_loss: 1.3583 - val_accuracy: 0.5802\n",
      "Epoch 3/30\n",
      "50/50 [==============================] - 2s 42ms/step - loss: 1.1905 - accuracy: 0.6011 - val_loss: 1.3032 - val_accuracy: 0.5915\n",
      "Epoch 4/30\n",
      "50/50 [==============================] - 2s 44ms/step - loss: 1.0342 - accuracy: 0.6412 - val_loss: 1.3089 - val_accuracy: 0.6065\n",
      "Epoch 5/30\n",
      "50/50 [==============================] - 2s 45ms/step - loss: 0.9171 - accuracy: 0.6828 - val_loss: 1.2794 - val_accuracy: 0.6303\n",
      "Epoch 6/30\n",
      "50/50 [==============================] - 2s 41ms/step - loss: 0.8267 - accuracy: 0.7110 - val_loss: 1.3340 - val_accuracy: 0.5965\n",
      "Epoch 7/30\n",
      "50/50 [==============================] - 2s 42ms/step - loss: 0.7618 - accuracy: 0.7323 - val_loss: 1.4188 - val_accuracy: 0.6216\n",
      "Epoch 8/30\n",
      "50/50 [==============================] - 2s 43ms/step - loss: 0.7044 - accuracy: 0.7495 - val_loss: 1.3716 - val_accuracy: 0.6053\n",
      "Epoch 9/30\n",
      "50/50 [==============================] - 2s 42ms/step - loss: 0.6875 - accuracy: 0.7552 - val_loss: 1.5203 - val_accuracy: 0.5965\n",
      "Epoch 10/30\n",
      "50/50 [==============================] - 2s 48ms/step - loss: 0.6500 - accuracy: 0.7793 - val_loss: 1.5143 - val_accuracy: 0.6053\n",
      "Epoch 11/30\n",
      "50/50 [==============================] - 2s 49ms/step - loss: 0.5960 - accuracy: 0.7987 - val_loss: 1.6060 - val_accuracy: 0.5877\n",
      "Epoch 12/30\n",
      "50/50 [==============================] - 2s 43ms/step - loss: 0.5623 - accuracy: 0.8084 - val_loss: 1.5680 - val_accuracy: 0.6366\n",
      "Epoch 13/30\n",
      "50/50 [==============================] - 2s 47ms/step - loss: 0.5632 - accuracy: 0.8096 - val_loss: 1.4380 - val_accuracy: 0.6604\n",
      "Epoch 14/30\n",
      "50/50 [==============================] - 2s 48ms/step - loss: 0.4823 - accuracy: 0.8431 - val_loss: 1.4109 - val_accuracy: 0.6516\n",
      "Epoch 15/30\n",
      "50/50 [==============================] - 2s 48ms/step - loss: 0.4599 - accuracy: 0.8507 - val_loss: 1.6145 - val_accuracy: 0.6266\n",
      "Epoch 16/30\n",
      "50/50 [==============================] - 2s 46ms/step - loss: 0.4066 - accuracy: 0.8779 - val_loss: 1.5062 - val_accuracy: 0.5827\n",
      "Epoch 17/30\n",
      "50/50 [==============================] - 2s 46ms/step - loss: 0.3909 - accuracy: 0.8795 - val_loss: 1.4258 - val_accuracy: 0.6992\n",
      "Epoch 18/30\n",
      "50/50 [==============================] - 2s 47ms/step - loss: 0.3583 - accuracy: 0.8863 - val_loss: 1.5596 - val_accuracy: 0.6604\n",
      "Epoch 19/30\n",
      "50/50 [==============================] - 2s 46ms/step - loss: 0.3275 - accuracy: 0.9001 - val_loss: 1.6081 - val_accuracy: 0.6742\n",
      "Epoch 20/30\n",
      "50/50 [==============================] - 2s 44ms/step - loss: 0.3148 - accuracy: 0.9039 - val_loss: 1.6565 - val_accuracy: 0.6754\n",
      "Epoch 21/30\n",
      "50/50 [==============================] - 2s 43ms/step - loss: 0.2941 - accuracy: 0.9155 - val_loss: 1.8757 - val_accuracy: 0.6053\n",
      "Epoch 22/30\n",
      "50/50 [==============================] - 2s 43ms/step - loss: 0.3022 - accuracy: 0.9070 - val_loss: 1.5483 - val_accuracy: 0.6842\n",
      "Epoch 23/30\n",
      "50/50 [==============================] - 2s 46ms/step - loss: 0.3104 - accuracy: 0.9064 - val_loss: 1.6506 - val_accuracy: 0.6842\n",
      "Epoch 24/30\n",
      "50/50 [==============================] - 2s 42ms/step - loss: 0.2631 - accuracy: 0.9245 - val_loss: 1.8021 - val_accuracy: 0.6404\n",
      "Epoch 25/30\n",
      "50/50 [==============================] - 2s 42ms/step - loss: 0.2569 - accuracy: 0.9245 - val_loss: 1.5835 - val_accuracy: 0.6792\n",
      "Epoch 26/30\n",
      "50/50 [==============================] - 2s 41ms/step - loss: 0.2854 - accuracy: 0.9064 - val_loss: 1.5609 - val_accuracy: 0.6642\n",
      "Epoch 27/30\n",
      "50/50 [==============================] - 2s 40ms/step - loss: 0.2318 - accuracy: 0.9333 - val_loss: 1.6966 - val_accuracy: 0.6867\n",
      "Epoch 28/30\n",
      "50/50 [==============================] - 2s 42ms/step - loss: 0.2172 - accuracy: 0.9361 - val_loss: 1.8503 - val_accuracy: 0.6516\n",
      "Epoch 29/30\n",
      "50/50 [==============================] - 2s 42ms/step - loss: 0.2124 - accuracy: 0.9361 - val_loss: 1.7501 - val_accuracy: 0.6679\n",
      "Epoch 30/30\n",
      "50/50 [==============================] - 2s 43ms/step - loss: 0.2003 - accuracy: 0.9386 - val_loss: 1.7537 - val_accuracy: 0.6717\n"
     ]
    },
    {
     "data": {
      "text/plain": [
       "<keras.src.callbacks.History at 0x2ad6c4970>"
      ]
     },
     "execution_count": 14,
     "metadata": {},
     "output_type": "execute_result"
    }
   ],
   "source": [
    "y_train = np.asarray(train_df['label'])\n",
    "y_val = np.asarray(val_df['label'])\n",
    "\n",
    "# Training the model\n",
    "model.fit(padded_train, y_train, batch_size = 64, validation_data=(padded_val, y_val), epochs = 30)"
   ]
  },
  {
   "cell_type": "code",
   "execution_count": 55,
   "id": "f1e56a87",
   "metadata": {},
   "outputs": [
    {
     "name": "stdout",
     "output_type": "stream",
     "text": [
      "32/32 [==============================] - 0s 10ms/step\n",
      "LSTM Model Accuracy :  0.6813627254509018\n"
     ]
    },
    {
     "name": "stderr",
     "output_type": "stream",
     "text": [
      "/Library/Frameworks/Python.framework/Versions/3.8/lib/python3.8/site-packages/sklearn/metrics/_classification.py:1471: UndefinedMetricWarning: Precision and F-score are ill-defined and being set to 0.0 in labels with no predicted samples. Use `zero_division` parameter to control this behavior.\n",
      "  _warn_prf(average, modifier, msg_start, len(result))\n",
      "/Library/Frameworks/Python.framework/Versions/3.8/lib/python3.8/site-packages/sklearn/metrics/_classification.py:1471: UndefinedMetricWarning: Precision and F-score are ill-defined and being set to 0.0 in labels with no predicted samples. Use `zero_division` parameter to control this behavior.\n",
      "  _warn_prf(average, modifier, msg_start, len(result))\n",
      "/Library/Frameworks/Python.framework/Versions/3.8/lib/python3.8/site-packages/sklearn/metrics/_classification.py:1471: UndefinedMetricWarning: Precision and F-score are ill-defined and being set to 0.0 in labels with no predicted samples. Use `zero_division` parameter to control this behavior.\n",
      "  _warn_prf(average, modifier, msg_start, len(result))\n"
     ]
    },
    {
     "name": "stdout",
     "output_type": "stream",
     "text": [
      "              precision    recall  f1-score   support\n",
      "\n",
      "           0       0.05      0.30      0.09        10\n",
      "           1       0.63      0.61      0.62        71\n",
      "           2       0.00      0.00      0.00         3\n",
      "           3       0.40      0.59      0.47        68\n",
      "           4       0.73      0.60      0.66        93\n",
      "           5       0.82      0.79      0.80       599\n",
      "           6       0.59      0.46      0.52       118\n",
      "           7       0.38      0.28      0.32        36\n",
      "\n",
      "    accuracy                           0.68       998\n",
      "   macro avg       0.45      0.45      0.44       998\n",
      "weighted avg       0.71      0.68      0.69       998\n",
      "\n"
     ]
    },
    {
     "data": {
      "image/png": "[encoded data removed]",
      "text/plain": [
       "<Figure size 600x600 with 2 Axes>"
      ]
     },
     "metadata": {},
     "output_type": "display_data"
    }
   ],
   "source": [
    "\n",
    "# Making prediction\n",
    "prediction = model.predict(padded_test)\n",
    "y_pred= np.where(prediction > 0.5, 1, 0)\n",
    "y_pred = np.argmax(y_pred, axis=1)\n",
    "# Getting The Accuracy\n",
    "from sklearn.metrics import accuracy_score\n",
    "y_test = np.asarray(test_df['label'])\n",
    "\n",
    "accuracy = accuracy_score(list(y_test), list(y_pred))\n",
    "\n",
    "print(\"LSTM Model Accuracy : \", accuracy)\n",
    "\n",
    "\n",
    "# Getting The Confusion Matrix\n",
    "from sklearn.metrics import confusion_matrix\n",
    "cm = confusion_matrix(list(y_test), y_pred)\n",
    "plt.figure(figsize = (6, 6))\n",
    "sns.heatmap(cm, annot = True)\n",
    "\n",
    "from sklearn.metrics import classification_report\n",
    "print(classification_report(y_test, y_pred))"
   ]
  },
  {
   "cell_type": "code",
   "execution_count": 57,
   "id": "614b8d20",
   "metadata": {},
   "outputs": [
    {
     "name": "stdout",
     "output_type": "stream",
     "text": [
      "Model: \"sequential_9\"\n",
      "_________________________________________________________________\n",
      " Layer (type)                Output Shape              Param #   \n",
      "=================================================================\n",
      " embedding_9 (Embedding)     (None, 42, 40)            2954240   \n",
      "                                                                 \n",
      " dropout_18 (Dropout)        (None, 42, 40)            0         \n",
      "                                                                 \n",
      " bidirectional_1 (Bidirecti  (None, 200)               112800    \n",
      " onal)                                                           \n",
      "                                                                 \n",
      " dropout_19 (Dropout)        (None, 200)               0         \n",
      "                                                                 \n",
      " dense_9 (Dense)             (None, 8)                 1608      \n",
      "                                                                 \n",
      "=================================================================\n",
      "Total params: 3068648 (11.71 MB)\n",
      "Trainable params: 3068648 (11.71 MB)\n",
      "Non-trainable params: 0 (0.00 Byte)\n",
      "_________________________________________________________________\n",
      "None\n"
     ]
    }
   ],
   "source": [
    "embedding_vector_features=40\n",
    "model=Sequential()\n",
    "model.add(Embedding(total_kata,embedding_vector_features,input_length=42))\n",
    "model.add(Dropout(0.3))\n",
    "model.add(Bidirectional(LSTM(100)))\n",
    "model.add(Dropout(0.3))\n",
    "model.add(Dense(8,activation='softmax'))\n",
    "model.compile(loss='sparse_categorical_crossentropy',optimizer='adam',metrics=['accuracy'])\n",
    "print(model.summary())"
   ]
  },
  {
   "cell_type": "code",
   "execution_count": 60,
   "id": "ea766ffa",
   "metadata": {},
   "outputs": [
    {
     "name": "stdout",
     "output_type": "stream",
     "text": [
      "Epoch 1/10\n",
      "50/50 [==============================] - 3s 57ms/step - loss: 0.9455 - accuracy: 0.6969 - val_loss: 1.0738 - val_accuracy: 0.7005\n",
      "Epoch 2/10\n",
      "50/50 [==============================] - 3s 58ms/step - loss: 0.7374 - accuracy: 0.7783 - val_loss: 1.0229 - val_accuracy: 0.7143\n",
      "Epoch 3/10\n",
      "50/50 [==============================] - 3s 58ms/step - loss: 0.5660 - accuracy: 0.8410 - val_loss: 1.0258 - val_accuracy: 0.7218\n",
      "Epoch 4/10\n",
      "50/50 [==============================] - 3s 61ms/step - loss: 0.4531 - accuracy: 0.8685 - val_loss: 1.0708 - val_accuracy: 0.7306\n",
      "Epoch 5/10\n",
      "50/50 [==============================] - 3s 59ms/step - loss: 0.3716 - accuracy: 0.8936 - val_loss: 1.1394 - val_accuracy: 0.6842\n",
      "Epoch 6/10\n",
      "50/50 [==============================] - 3s 57ms/step - loss: 0.3098 - accuracy: 0.9092 - val_loss: 1.1640 - val_accuracy: 0.7256\n",
      "Epoch 7/10\n",
      "50/50 [==============================] - 3s 58ms/step - loss: 0.2746 - accuracy: 0.9220 - val_loss: 1.2780 - val_accuracy: 0.7143\n",
      "Epoch 8/10\n",
      "50/50 [==============================] - 3s 60ms/step - loss: 0.2379 - accuracy: 0.9336 - val_loss: 1.3347 - val_accuracy: 0.6980\n",
      "Epoch 9/10\n",
      "50/50 [==============================] - 3s 58ms/step - loss: 0.2095 - accuracy: 0.9377 - val_loss: 1.2554 - val_accuracy: 0.6992\n",
      "Epoch 10/10\n",
      "50/50 [==============================] - 3s 56ms/step - loss: 0.1860 - accuracy: 0.9455 - val_loss: 1.3856 - val_accuracy: 0.7068\n"
     ]
    },
    {
     "data": {
      "text/plain": [
       "<keras.src.callbacks.History at 0x2a96110a0>"
      ]
     },
     "execution_count": 60,
     "metadata": {},
     "output_type": "execute_result"
    }
   ],
   "source": [
    "y_train = np.asarray(train_df['label'])\n",
    "y_val = np.asarray(val_df['label'])\n",
    "\n",
    "# Training the model\n",
    "model.fit(padded_train, y_train, batch_size = 64, validation_data=(padded_val, y_val), epochs = 10)"
   ]
  },
  {
   "cell_type": "code",
   "execution_count": 61,
   "id": "95ae2660",
   "metadata": {},
   "outputs": [
    {
     "name": "stdout",
     "output_type": "stream",
     "text": [
      "32/32 [==============================] - 1s 9ms/step\n",
      "LSTM Model Accuracy :  0.7154308617234469\n",
      "              precision    recall  f1-score   support\n",
      "\n",
      "           0       0.05      0.40      0.09        10\n",
      "           1       0.72      0.62      0.67        71\n",
      "           2       0.00      0.00      0.00         3\n",
      "           3       0.88      0.56      0.68        68\n",
      "           4       0.78      0.54      0.64        93\n",
      "           5       0.81      0.84      0.82       599\n",
      "           6       0.57      0.54      0.56       118\n",
      "           7       0.63      0.33      0.44        36\n",
      "\n",
      "    accuracy                           0.72       998\n",
      "   macro avg       0.56      0.48      0.49       998\n",
      "weighted avg       0.76      0.72      0.73       998\n",
      "\n"
     ]
    },
    {
     "name": "stderr",
     "output_type": "stream",
     "text": [
      "/Library/Frameworks/Python.framework/Versions/3.8/lib/python3.8/site-packages/sklearn/metrics/_classification.py:1471: UndefinedMetricWarning: Precision and F-score are ill-defined and being set to 0.0 in labels with no predicted samples. Use `zero_division` parameter to control this behavior.\n",
      "  _warn_prf(average, modifier, msg_start, len(result))\n",
      "/Library/Frameworks/Python.framework/Versions/3.8/lib/python3.8/site-packages/sklearn/metrics/_classification.py:1471: UndefinedMetricWarning: Precision and F-score are ill-defined and being set to 0.0 in labels with no predicted samples. Use `zero_division` parameter to control this behavior.\n",
      "  _warn_prf(average, modifier, msg_start, len(result))\n",
      "/Library/Frameworks/Python.framework/Versions/3.8/lib/python3.8/site-packages/sklearn/metrics/_classification.py:1471: UndefinedMetricWarning: Precision and F-score are ill-defined and being set to 0.0 in labels with no predicted samples. Use `zero_division` parameter to control this behavior.\n",
      "  _warn_prf(average, modifier, msg_start, len(result))\n"
     ]
    },
    {
     "data": {
      "image/png": "[encoded data removed]",
      "text/plain": [
       "<Figure size 600x600 with 2 Axes>"
      ]
     },
     "metadata": {},
     "output_type": "display_data"
    }
   ],
   "source": [
    "\n",
    "# Making prediction\n",
    "prediction = model.predict(padded_test)\n",
    "y_pred= np.where(prediction > 0.5, 1, 0)\n",
    "y_pred = np.argmax(y_pred, axis=1)\n",
    "# Getting The Accuracy\n",
    "from sklearn.metrics import accuracy_score\n",
    "y_test = np.asarray(test_df['label'])\n",
    "\n",
    "accuracy = accuracy_score(list(y_test), list(y_pred))\n",
    "\n",
    "print(\"LSTM Model Accuracy : \", accuracy)\n",
    "\n",
    "\n",
    "# Getting The Confusion Matrix\n",
    "from sklearn.metrics import confusion_matrix\n",
    "cm = confusion_matrix(list(y_test), y_pred)\n",
    "plt.figure(figsize = (6, 6))\n",
    "sns.heatmap(cm, annot = True)\n",
    "\n",
    "from sklearn.metrics import classification_report\n",
    "print(classification_report(y_test, y_pred))"
   ]
  },
  {
   "cell_type": "code",
   "execution_count": 67,
   "id": "82e1e9db",
   "metadata": {},
   "outputs": [
    {
     "name": "stdout",
     "output_type": "stream",
     "text": [
      "Model: \"sequential_12\"\n",
      "_________________________________________________________________\n",
      " Layer (type)                Output Shape              Param #   \n",
      "=================================================================\n",
      " embedding_12 (Embedding)    (None, 42, 40)            2954240   \n",
      "                                                                 \n",
      " dropout_23 (Dropout)        (None, 42, 40)            0         \n",
      "                                                                 \n",
      " conv1d_3 (Conv1D)           (None, 38, 32)            6432      \n",
      "                                                                 \n",
      " max_pooling1d_2 (MaxPoolin  (None, 19, 32)            0         \n",
      " g1D)                                                            \n",
      "                                                                 \n",
      " conv1d_4 (Conv1D)           (None, 15, 32)            5152      \n",
      "                                                                 \n",
      " max_pooling1d_3 (MaxPoolin  (None, 7, 32)             0         \n",
      " g1D)                                                            \n",
      "                                                                 \n",
      " bidirectional_3 (Bidirecti  (None, 200)               106400    \n",
      " onal)                                                           \n",
      "                                                                 \n",
      " dropout_24 (Dropout)        (None, 200)               0         \n",
      "                                                                 \n",
      " dense_11 (Dense)            (None, 8)                 1608      \n",
      "                                                                 \n",
      "=================================================================\n",
      "Total params: 3073832 (11.73 MB)\n",
      "Trainable params: 3073832 (11.73 MB)\n",
      "Non-trainable params: 0 (0.00 Byte)\n",
      "_________________________________________________________________\n",
      "None\n"
     ]
    }
   ],
   "source": [
    "## Creating model Using CNN\n",
    "embedding_vector_features=40\n",
    "model=Sequential()\n",
    "model.add(Embedding(total_kata,embedding_vector_features,input_length=42))\n",
    "\n",
    "model.add(Dropout(0.3))\n",
    "\n",
    "model.add(Conv1D(32, 5, activation='relu'))\n",
    "model.add(MaxPool1D())\n",
    "\n",
    "model.add(Conv1D(32, 5, activation='relu'))\n",
    "model.add(MaxPool1D())\n",
    "\n",
    "model.add(Bidirectional(LSTM(100)))\n",
    "model.add(Dropout(0.3))\n",
    "\n",
    "model.add(Dense(8,activation='softmax'))\n",
    "model.compile(loss='sparse_categorical_crossentropy',optimizer='adam',metrics=['accuracy'])\n",
    "print(model.summary())"
   ]
  },
  {
   "cell_type": "code",
   "execution_count": 69,
   "id": "e784048e",
   "metadata": {},
   "outputs": [
    {
     "name": "stdout",
     "output_type": "stream",
     "text": [
      "Epoch 1/10\n",
      "50/50 [==============================] - 1s 26ms/step - loss: 0.9892 - accuracy: 0.6556 - val_loss: 1.1877 - val_accuracy: 0.6053\n",
      "Epoch 2/10\n",
      "50/50 [==============================] - 1s 22ms/step - loss: 0.8595 - accuracy: 0.6891 - val_loss: 1.2352 - val_accuracy: 0.6103\n",
      "Epoch 3/10\n",
      "50/50 [==============================] - 1s 22ms/step - loss: 0.7510 - accuracy: 0.7273 - val_loss: 1.3689 - val_accuracy: 0.5965\n",
      "Epoch 4/10\n",
      "50/50 [==============================] - 1s 22ms/step - loss: 0.6679 - accuracy: 0.7549 - val_loss: 1.4313 - val_accuracy: 0.6165\n",
      "Epoch 5/10\n",
      "50/50 [==============================] - 1s 26ms/step - loss: 0.6032 - accuracy: 0.7818 - val_loss: 1.4056 - val_accuracy: 0.6228\n",
      "Epoch 6/10\n",
      "50/50 [==============================] - 1s 22ms/step - loss: 0.5256 - accuracy: 0.8162 - val_loss: 1.4985 - val_accuracy: 0.6153\n",
      "Epoch 7/10\n",
      "50/50 [==============================] - 1s 26ms/step - loss: 0.4677 - accuracy: 0.8381 - val_loss: 1.5592 - val_accuracy: 0.6504\n",
      "Epoch 8/10\n",
      "50/50 [==============================] - 1s 26ms/step - loss: 0.3872 - accuracy: 0.8745 - val_loss: 1.5810 - val_accuracy: 0.6328\n",
      "Epoch 9/10\n",
      "50/50 [==============================] - 1s 25ms/step - loss: 0.3596 - accuracy: 0.8832 - val_loss: 1.4976 - val_accuracy: 0.6366\n",
      "Epoch 10/10\n",
      "50/50 [==============================] - 1s 28ms/step - loss: 0.2930 - accuracy: 0.9126 - val_loss: 1.6297 - val_accuracy: 0.6629\n"
     ]
    },
    {
     "data": {
      "text/plain": [
       "<keras.src.callbacks.History at 0x2a9b8e400>"
      ]
     },
     "execution_count": 69,
     "metadata": {},
     "output_type": "execute_result"
    }
   ],
   "source": [
    "y_train = np.asarray(train_df['label'])\n",
    "y_val = np.asarray(val_df['label'])\n",
    "\n",
    "# Training the model\n",
    "model.fit(padded_train, y_train, batch_size = 64, validation_data=(padded_val, y_val), epochs = 10)\n",
    "     "
   ]
  },
  {
   "cell_type": "code",
   "execution_count": 70,
   "id": "1d075d2f",
   "metadata": {},
   "outputs": [
    {
     "name": "stdout",
     "output_type": "stream",
     "text": [
      "32/32 [==============================] - 1s 2ms/step\n",
      "LSTM Model Accuracy :  0.6743486973947895\n",
      "              precision    recall  f1-score   support\n",
      "\n",
      "           0       0.05      0.50      0.09        10\n",
      "           1       0.75      0.54      0.62        71\n",
      "           2       0.00      0.00      0.00         3\n",
      "           3       0.67      0.49      0.56        68\n",
      "           4       0.74      0.52      0.61        93\n",
      "           5       0.83      0.80      0.81       599\n",
      "           6       0.45      0.52      0.48       118\n",
      "           7       0.56      0.28      0.37        36\n",
      "\n",
      "    accuracy                           0.67       998\n",
      "   macro avg       0.50      0.45      0.44       998\n",
      "weighted avg       0.74      0.67      0.70       998\n",
      "\n"
     ]
    },
    {
     "name": "stderr",
     "output_type": "stream",
     "text": [
      "/Library/Frameworks/Python.framework/Versions/3.8/lib/python3.8/site-packages/sklearn/metrics/_classification.py:1471: UndefinedMetricWarning: Precision and F-score are ill-defined and being set to 0.0 in labels with no predicted samples. Use `zero_division` parameter to control this behavior.\n",
      "  _warn_prf(average, modifier, msg_start, len(result))\n",
      "/Library/Frameworks/Python.framework/Versions/3.8/lib/python3.8/site-packages/sklearn/metrics/_classification.py:1471: UndefinedMetricWarning: Precision and F-score are ill-defined and being set to 0.0 in labels with no predicted samples. Use `zero_division` parameter to control this behavior.\n",
      "  _warn_prf(average, modifier, msg_start, len(result))\n",
      "/Library/Frameworks/Python.framework/Versions/3.8/lib/python3.8/site-packages/sklearn/metrics/_classification.py:1471: UndefinedMetricWarning: Precision and F-score are ill-defined and being set to 0.0 in labels with no predicted samples. Use `zero_division` parameter to control this behavior.\n",
      "  _warn_prf(average, modifier, msg_start, len(result))\n"
     ]
    },
    {
     "data": {
      "image/png": "[encoded data removed]",
      "text/plain": [
       "<Figure size 600x600 with 2 Axes>"
      ]
     },
     "metadata": {},
     "output_type": "display_data"
    }
   ],
   "source": [
    "\n",
    "# Making prediction\n",
    "prediction = model.predict(padded_test)\n",
    "y_pred= np.where(prediction > 0.5, 1, 0)\n",
    "y_pred = np.argmax(y_pred, axis=1)\n",
    "# Getting The Accuracy\n",
    "from sklearn.metrics import accuracy_score\n",
    "y_test = np.asarray(test_df['label'])\n",
    "\n",
    "accuracy = accuracy_score(list(y_test), list(y_pred))\n",
    "\n",
    "print(\"LSTM Model Accuracy : \", accuracy)\n",
    "\n",
    "\n",
    "# Getting The Confusion Matrix\n",
    "from sklearn.metrics import confusion_matrix\n",
    "cm = confusion_matrix(list(y_test), y_pred)\n",
    "plt.figure(figsize = (6, 6))\n",
    "sns.heatmap(cm, annot = True)\n",
    "\n",
    "from sklearn.metrics import classification_report\n",
    "print(classification_report(y_test, y_pred))"
   ]
  },
  {
   "cell_type": "markdown",
   "id": "5c06106a",
   "metadata": {},
   "source": [
    "## Preprocessing-Bert"
   ]
  },
  {
   "cell_type": "code",
   "execution_count": 16,
   "id": "098bc692",
   "metadata": {},
   "outputs": [],
   "source": [
    "PRETRAINED_MODEL_NAME = 'indobenchmark/indobert-base-p1'\n",
    "tokenizer = BertTokenizer.from_pretrained(PRETRAINED_MODEL_NAME)"
   ]
  },
  {
   "cell_type": "code",
   "execution_count": 7,
   "id": "fa53652c",
   "metadata": {},
   "outputs": [],
   "source": [
    "# train_df.to_csv('train.tsv', sep='\\t', index=False)\n",
    "# val_df.to_csv('val.tsv', sep='\\t', index=False)\n",
    "# test_df.to_csv('test.tsv', sep='\\t', index=False)"
   ]
  },
  {
   "cell_type": "code",
   "execution_count": 17,
   "id": "2dca4369",
   "metadata": {},
   "outputs": [
    {
     "name": "stdout",
     "output_type": "stream",
     "text": [
      "trainset size: 3194\n",
      "valset size: 798\n",
      "testset size:  998\n"
     ]
    }
   ],
   "source": [
    "from torch.utils.data import Dataset\n",
    "\n",
    "class FakeNewsDataset(Dataset):\n",
    "    def __init__(self, mode, tokenizer):\n",
    "        assert mode in ['train', 'val', 'test']\n",
    "        self.mode = mode\n",
    "        self.df = pd.read_csv(mode + '.tsv', sep='\\t').fillna(\"\")\n",
    "        self.len = len(self.df)\n",
    "        self.tokenizer = tokenizer  # BERT tokenizer\n",
    "    \n",
    "    def __getitem__(self, idx):\n",
    "        if self.mode == 'test':\n",
    "            statement, label = self.df.iloc[idx, :].values\n",
    "            label_tensor = torch.tensor(label)\n",
    "        else:\n",
    "            statement, label = self.df.iloc[idx, :].values\n",
    "            label_tensor = torch.tensor(label)\n",
    "            \n",
    "        word_pieces = ['[CLS]']\n",
    "        statement = self.tokenizer.tokenize(statement)\n",
    "        word_pieces += statement + ['[SEP]']\n",
    "        len_st = len(word_pieces)\n",
    "        \n",
    "        ids = self.tokenizer.convert_tokens_to_ids(word_pieces)\n",
    "        tokens_tensor = torch.tensor(ids)\n",
    "        \n",
    "        segments_tensor = torch.tensor([0] * len_st, dtype=torch.long)\n",
    "        \n",
    "        return (tokens_tensor, segments_tensor, label_tensor)\n",
    "    \n",
    "    def __len__(self):\n",
    "        return self.len\n",
    "    \n",
    "    \n",
    "# Initialize Datasets for Transformation\n",
    "trainset = FakeNewsDataset('train', tokenizer=tokenizer)\n",
    "valset = FakeNewsDataset('val', tokenizer=tokenizer)\n",
    "testset = FakeNewsDataset('test', tokenizer=tokenizer)\n",
    "\n",
    "print('trainset size:' ,trainset.__len__())\n",
    "print('valset size:',valset.__len__())\n",
    "print('testset size: ',testset.__len__())"
   ]
  },
  {
   "cell_type": "code",
   "execution_count": 18,
   "id": "5d9f1306",
   "metadata": {},
   "outputs": [
    {
     "name": "stdout",
     "output_type": "stream",
     "text": [
      "\n",
      "original_statement: \n",
      "anies ganjar kemarin ngasih kritik gibran sopan mahfud bain dukung\n",
      "\n",
      "tokens: \n",
      "['[CLS]', 'anies', 'ganja', '##r', 'kemarin', 'ngasih', 'kritik', 'gib', '##ran', 'sopan', 'mahfud', 'bai', '##n', 'dukung', '[SEP]']\n",
      "\n",
      "label: 5\n",
      "\n",
      "--------------------\n",
      "\n",
      "tokens_tensor: \n",
      "tensor([    2, 19145, 18006, 30359,  3601, 13710,  6476, 19044,  3823,  9036,\n",
      "        20469, 11217, 30355,  9162,     3])\n",
      "\n",
      "segments_tensor: \n",
      "tensor([0, 0, 0, 0, 0, 0, 0, 0, 0, 0, 0, 0, 0, 0, 0])\n",
      "\n",
      "label_tensor: \n",
      "5\n",
      "\n",
      "\n"
     ]
    }
   ],
   "source": [
    "sample_idx = 0\n",
    "statement, label = trainset.df.iloc[sample_idx].values\n",
    "tokens_tensor, segments_tensor, label_tensor = trainset[sample_idx]\n",
    "\n",
    "tokens = tokenizer.convert_ids_to_tokens(tokens_tensor.tolist())\n",
    "combined_text = \" \".join(tokens)\n",
    "\n",
    "print(f\"\"\"\n",
    "original_statement: \n",
    "{statement}\n",
    "\n",
    "tokens: \n",
    "{tokens}\n",
    "\n",
    "label: {label}\n",
    "\n",
    "--------------------\n",
    "\n",
    "tokens_tensor: \n",
    "{tokens_tensor}\n",
    "\n",
    "segments_tensor: \n",
    "{segments_tensor}\n",
    "\n",
    "label_tensor: \n",
    "{label_tensor}\n",
    "\n",
    "\"\"\")"
   ]
  },
  {
   "cell_type": "code",
   "execution_count": 19,
   "id": "480d294f",
   "metadata": {},
   "outputs": [],
   "source": [
    "from torch.utils.data import DataLoader\n",
    "from torch.nn.utils.rnn import pad_sequence\n",
    "\n",
    "def create_mini_batch(samples):\n",
    "    tokens_tensors = [s[0] for s in samples]\n",
    "    segments_tensors = [s[1] for s in samples]\n",
    "    \n",
    "    if samples[0][2] is not None:\n",
    "        label_ids = torch.stack([s[2] for s in samples])\n",
    "    else:\n",
    "        label_ids = None\n",
    "    \n",
    "    tokens_tensors = pad_sequence(tokens_tensors, batch_first=True)\n",
    "    segments_tensors = pad_sequence(segments_tensors, batch_first=True)\n",
    "    \n",
    "\n",
    "    masks_tensors = torch.zeros(tokens_tensors.shape, dtype=torch.long)\n",
    "    masks_tensors = masks_tensors.masked_fill(tokens_tensors != 0, 1)\n",
    "    \n",
    "    return tokens_tensors, segments_tensors, masks_tensors, label_ids\n",
    "\n",
    "BATCH_SIZE = 16\n",
    "trainloader = DataLoader(trainset, batch_size=BATCH_SIZE, collate_fn=create_mini_batch)\n",
    "valloader = DataLoader(valset, batch_size=BATCH_SIZE, collate_fn=create_mini_batch)\n",
    "testloader = DataLoader(testset, batch_size=BATCH_SIZE,collate_fn=create_mini_batch)\n",
    "     "
   ]
  },
  {
   "cell_type": "code",
   "execution_count": 20,
   "id": "98811d2b",
   "metadata": {},
   "outputs": [
    {
     "name": "stdout",
     "output_type": "stream",
     "text": [
      "\n",
      "tokens_tensors.shape   = torch.Size([16, 23]) \n",
      "tensor([[    2, 19145, 18006, 30359,  3601, 13710,  6476, 19044,  3823,  9036,\n",
      "         20469, 11217, 30355,  9162,     3,     0,     0,     0,     0,     0,\n",
      "             0,     0,     0],\n",
      "        [    2, 19145,  1023,  8137,  9420, 21167,  5822, 10634,  3500,     3,\n",
      "             0,     0,     0,     0,     0,     0,     0,     0,     0,     0,\n",
      "             0,     0,     0],\n",
      "        [    2, 19145,  2911, 14979,  2424,  1375,  3341, 27715,  5454,  5035,\n",
      "          8292, 22710,   678,  9558, 12058,     3,     0,     0,     0,     0,\n",
      "             0,     0,     0],\n",
      "        [    2,  3681,    84,  3681,    84,  8181,  3624,  2655,   986,   986,\n",
      "          4772,  1587,  3577,   986,  2501, 15994, 18006, 30359,  7979,  6378,\n",
      "         20469,     3,     0],\n",
      "        [    2, 11283,  2873, 11935,  2690,   494, 23918,     3,     0,     0,\n",
      "             0,     0,     0,     0,     0,     0,     0,     0,     0,     0,\n",
      "             0,     0,     0],\n",
      "        [    2,   232, 13744,   737,  5234,  3686,  6359, 12056,  4299,  4938,\n",
      "          6919, 19145,  4442,    16,  5234,  3686,  6359,  3256,     3,     0,\n",
      "             0,     0,     0],\n",
      "        [    2,   368,    55,  9148, 11283, 19044,  3823,  1437,  5694,  7343,\n",
      "             3,     0,     0,     0,     0,     0,     0,     0,     0,     0,\n",
      "             0,     0,     0],\n",
      "        [    2, 11119,   300,  9162,  8990, 18977,  4395,    25, 11326,  2376,\n",
      "          7237, 11119,   300,   959, 19145,  2078,  3714,    17,  1871,  3022,\n",
      "          1871, 26249,     3],\n",
      "        [    2,  1554, 10736, 11971,  2501, 15994, 25951, 18006, 30359, 20469,\n",
      "          3797,  2392,  1081,  3921, 18006, 30359, 20469,  4364, 16729,   300,\n",
      "             3,     0,     0],\n",
      "        [    2, 15994, 18006, 30359,  7979,  6378, 25951, 20469,  4076,  6767,\n",
      "            17, 11409,   885,  6231, 12721,  1166,     3,     0,     0,     0,\n",
      "             0,     0,     0],\n",
      "        [    2,  1410, 11119,   300, 23834,  1166,  7633,    72,   552,     3,\n",
      "             0,     0,     0,     0,     0,     0,     0,     0,     0,     0,\n",
      "             0,     0,     0],\n",
      "        [    2,  2670, 26289,   282,  9162,  2501, 18006, 30359,  7979,  6378,\n",
      "         20469, 16729,  1642, 15140,     3,     0,     0,     0,     0,     0,\n",
      "             0,     0,     0],\n",
      "        [    2, 12188,  4626,  6378,  6448,  3823, 13496,  1447,  4945, 30378,\n",
      "          5651,   342,   552, 23677,  1642,     3,     0,     0,     0,     0,\n",
      "             0,     0,     0],\n",
      "        [    2, 11283,  5381,  2692,  4680, 10730,  2775, 14949,  5774,    15,\n",
      "          1661,  3164, 10219, 12634,  8851,  1829,     3,     0,     0,     0,\n",
      "             0,     0,     0],\n",
      "        [    2,  7364,  7455,  1172,   717, 22931, 30359,  2690,  3423,  4879,\n",
      "         14979,  3601,     3,     0,     0,     0,     0,     0,     0,     0,\n",
      "             0,     0,     0],\n",
      "        [    2,  1699,  8508,  6169, 10081,  1224,   421,  6159,  6613,  8508,\n",
      "          3924, 19145,  5134,  2869,    55, 10640,     3,     0,     0,     0,\n",
      "             0,     0,     0]])\n",
      "------------------------\n",
      "segments_tensors.shape = torch.Size([16, 23])\n",
      "tensor([[0, 0, 0, 0, 0, 0, 0, 0, 0, 0, 0, 0, 0, 0, 0, 0, 0, 0, 0, 0, 0, 0, 0],\n",
      "        [0, 0, 0, 0, 0, 0, 0, 0, 0, 0, 0, 0, 0, 0, 0, 0, 0, 0, 0, 0, 0, 0, 0],\n",
      "        [0, 0, 0, 0, 0, 0, 0, 0, 0, 0, 0, 0, 0, 0, 0, 0, 0, 0, 0, 0, 0, 0, 0],\n",
      "        [0, 0, 0, 0, 0, 0, 0, 0, 0, 0, 0, 0, 0, 0, 0, 0, 0, 0, 0, 0, 0, 0, 0],\n",
      "        [0, 0, 0, 0, 0, 0, 0, 0, 0, 0, 0, 0, 0, 0, 0, 0, 0, 0, 0, 0, 0, 0, 0],\n",
      "        [0, 0, 0, 0, 0, 0, 0, 0, 0, 0, 0, 0, 0, 0, 0, 0, 0, 0, 0, 0, 0, 0, 0],\n",
      "        [0, 0, 0, 0, 0, 0, 0, 0, 0, 0, 0, 0, 0, 0, 0, 0, 0, 0, 0, 0, 0, 0, 0],\n",
      "        [0, 0, 0, 0, 0, 0, 0, 0, 0, 0, 0, 0, 0, 0, 0, 0, 0, 0, 0, 0, 0, 0, 0],\n",
      "        [0, 0, 0, 0, 0, 0, 0, 0, 0, 0, 0, 0, 0, 0, 0, 0, 0, 0, 0, 0, 0, 0, 0],\n",
      "        [0, 0, 0, 0, 0, 0, 0, 0, 0, 0, 0, 0, 0, 0, 0, 0, 0, 0, 0, 0, 0, 0, 0],\n",
      "        [0, 0, 0, 0, 0, 0, 0, 0, 0, 0, 0, 0, 0, 0, 0, 0, 0, 0, 0, 0, 0, 0, 0],\n",
      "        [0, 0, 0, 0, 0, 0, 0, 0, 0, 0, 0, 0, 0, 0, 0, 0, 0, 0, 0, 0, 0, 0, 0],\n",
      "        [0, 0, 0, 0, 0, 0, 0, 0, 0, 0, 0, 0, 0, 0, 0, 0, 0, 0, 0, 0, 0, 0, 0],\n",
      "        [0, 0, 0, 0, 0, 0, 0, 0, 0, 0, 0, 0, 0, 0, 0, 0, 0, 0, 0, 0, 0, 0, 0],\n",
      "        [0, 0, 0, 0, 0, 0, 0, 0, 0, 0, 0, 0, 0, 0, 0, 0, 0, 0, 0, 0, 0, 0, 0],\n",
      "        [0, 0, 0, 0, 0, 0, 0, 0, 0, 0, 0, 0, 0, 0, 0, 0, 0, 0, 0, 0, 0, 0, 0]])\n",
      "------------------------\n",
      "masks_tensors.shape    = torch.Size([16, 23])\n",
      "tensor([[1, 1, 1, 1, 1, 1, 1, 1, 1, 1, 1, 1, 1, 1, 1, 0, 0, 0, 0, 0, 0, 0, 0],\n",
      "        [1, 1, 1, 1, 1, 1, 1, 1, 1, 1, 0, 0, 0, 0, 0, 0, 0, 0, 0, 0, 0, 0, 0],\n",
      "        [1, 1, 1, 1, 1, 1, 1, 1, 1, 1, 1, 1, 1, 1, 1, 1, 0, 0, 0, 0, 0, 0, 0],\n",
      "        [1, 1, 1, 1, 1, 1, 1, 1, 1, 1, 1, 1, 1, 1, 1, 1, 1, 1, 1, 1, 1, 1, 0],\n",
      "        [1, 1, 1, 1, 1, 1, 1, 1, 0, 0, 0, 0, 0, 0, 0, 0, 0, 0, 0, 0, 0, 0, 0],\n",
      "        [1, 1, 1, 1, 1, 1, 1, 1, 1, 1, 1, 1, 1, 1, 1, 1, 1, 1, 1, 0, 0, 0, 0],\n",
      "        [1, 1, 1, 1, 1, 1, 1, 1, 1, 1, 1, 0, 0, 0, 0, 0, 0, 0, 0, 0, 0, 0, 0],\n",
      "        [1, 1, 1, 1, 1, 1, 1, 1, 1, 1, 1, 1, 1, 1, 1, 1, 1, 1, 1, 1, 1, 1, 1],\n",
      "        [1, 1, 1, 1, 1, 1, 1, 1, 1, 1, 1, 1, 1, 1, 1, 1, 1, 1, 1, 1, 1, 0, 0],\n",
      "        [1, 1, 1, 1, 1, 1, 1, 1, 1, 1, 1, 1, 1, 1, 1, 1, 1, 0, 0, 0, 0, 0, 0],\n",
      "        [1, 1, 1, 1, 1, 1, 1, 1, 1, 1, 0, 0, 0, 0, 0, 0, 0, 0, 0, 0, 0, 0, 0],\n",
      "        [1, 1, 1, 1, 1, 1, 1, 1, 1, 1, 1, 1, 1, 1, 1, 0, 0, 0, 0, 0, 0, 0, 0],\n",
      "        [1, 1, 1, 1, 1, 1, 1, 1, 1, 1, 1, 1, 1, 1, 1, 1, 0, 0, 0, 0, 0, 0, 0],\n",
      "        [1, 1, 1, 1, 1, 1, 1, 1, 1, 1, 1, 1, 1, 1, 1, 1, 1, 0, 0, 0, 0, 0, 0],\n",
      "        [1, 1, 1, 1, 1, 1, 1, 1, 1, 1, 1, 1, 1, 0, 0, 0, 0, 0, 0, 0, 0, 0, 0],\n",
      "        [1, 1, 1, 1, 1, 1, 1, 1, 1, 1, 1, 1, 1, 1, 1, 1, 1, 0, 0, 0, 0, 0, 0]])\n",
      "------------------------\n",
      "label_ids.shape        = torch.Size([16])\n",
      "tensor([5, 3, 6, 5, 5, 5, 5, 7, 5, 5, 6, 3, 1, 6, 4, 0])\n",
      "\n"
     ]
    }
   ],
   "source": [
    "data = next(iter(trainloader))\n",
    "\n",
    "tokens_tensors, segments_tensors, masks_tensors, label_ids = data\n",
    "\n",
    "print(f\"\"\"\n",
    "tokens_tensors.shape   = {tokens_tensors.shape} \n",
    "{tokens_tensors}\n",
    "------------------------\n",
    "segments_tensors.shape = {segments_tensors.shape}\n",
    "{segments_tensors}\n",
    "------------------------\n",
    "masks_tensors.shape    = {masks_tensors.shape}\n",
    "{masks_tensors}\n",
    "------------------------\n",
    "label_ids.shape        = {label_ids.shape}\n",
    "{label_ids}\n",
    "\"\"\")"
   ]
  },
  {
   "cell_type": "code",
   "execution_count": 21,
   "id": "cb75692a",
   "metadata": {},
   "outputs": [
    {
     "name": "stdout",
     "output_type": "stream",
     "text": [
      "\n",
      "name             module\n",
      "-----------------------\n",
      "bert:embeddings\n",
      "bert:encoder\n",
      "bert:pooler\n",
      "dropout          Dropout(p=0.1, inplace=False)\n",
      "classifier       Linear(in_features=768, out_features=8, bias=True)\n"
     ]
    }
   ],
   "source": [
    "from transformers import BertForSequenceClassification\n",
    "from IPython.display import display, clear_output\n",
    "\n",
    "NUM_LABELS = 8\n",
    "\n",
    "model = BertForSequenceClassification.from_pretrained(\n",
    "    PRETRAINED_MODEL_NAME, num_labels=NUM_LABELS)\n",
    "\n",
    "clear_output()\n",
    "\n",
    "print(\"\"\"\n",
    "name             module\n",
    "-----------------------\"\"\")\n",
    "for name, module in model.named_children():\n",
    "    if name == \"bert\":\n",
    "        for n, _ in module.named_children():\n",
    "            print(f\"{name}:{n}\")\n",
    "    else:\n",
    "        print(\"{:16} {}\".format(name, module))"
   ]
  },
  {
   "cell_type": "code",
   "execution_count": 22,
   "id": "d6ca8be1",
   "metadata": {},
   "outputs": [
    {
     "data": {
      "text/plain": [
       "BertConfig {\n",
       "  \"_name_or_path\": \"indobenchmark/indobert-base-p1\",\n",
       "  \"_num_labels\": 5,\n",
       "  \"architectures\": [\n",
       "    \"BertModel\"\n",
       "  ],\n",
       "  \"attention_probs_dropout_prob\": 0.1,\n",
       "  \"classifier_dropout\": null,\n",
       "  \"directionality\": \"bidi\",\n",
       "  \"hidden_act\": \"gelu\",\n",
       "  \"hidden_dropout_prob\": 0.1,\n",
       "  \"hidden_size\": 768,\n",
       "  \"id2label\": {\n",
       "    \"0\": \"LABEL_0\",\n",
       "    \"1\": \"LABEL_1\",\n",
       "    \"2\": \"LABEL_2\",\n",
       "    \"3\": \"LABEL_3\",\n",
       "    \"4\": \"LABEL_4\",\n",
       "    \"5\": \"LABEL_5\",\n",
       "    \"6\": \"LABEL_6\",\n",
       "    \"7\": \"LABEL_7\"\n",
       "  },\n",
       "  \"initializer_range\": 0.02,\n",
       "  \"intermediate_size\": 3072,\n",
       "  \"label2id\": {\n",
       "    \"LABEL_0\": 0,\n",
       "    \"LABEL_1\": 1,\n",
       "    \"LABEL_2\": 2,\n",
       "    \"LABEL_3\": 3,\n",
       "    \"LABEL_4\": 4,\n",
       "    \"LABEL_5\": 5,\n",
       "    \"LABEL_6\": 6,\n",
       "    \"LABEL_7\": 7\n",
       "  },\n",
       "  \"layer_norm_eps\": 1e-12,\n",
       "  \"max_position_embeddings\": 512,\n",
       "  \"model_type\": \"bert\",\n",
       "  \"num_attention_heads\": 12,\n",
       "  \"num_hidden_layers\": 12,\n",
       "  \"output_past\": true,\n",
       "  \"pad_token_id\": 0,\n",
       "  \"pooler_fc_size\": 768,\n",
       "  \"pooler_num_attention_heads\": 12,\n",
       "  \"pooler_num_fc_layers\": 3,\n",
       "  \"pooler_size_per_head\": 128,\n",
       "  \"pooler_type\": \"first_token_transform\",\n",
       "  \"position_embedding_type\": \"absolute\",\n",
       "  \"transformers_version\": \"4.41.0\",\n",
       "  \"type_vocab_size\": 2,\n",
       "  \"use_cache\": true,\n",
       "  \"vocab_size\": 50000\n",
       "}"
      ]
     },
     "execution_count": 22,
     "metadata": {},
     "output_type": "execute_result"
    }
   ],
   "source": [
    "model.config"
   ]
  },
  {
   "cell_type": "markdown",
   "id": "515283a5",
   "metadata": {},
   "source": [
    "## Bert"
   ]
  },
  {
   "cell_type": "code",
   "execution_count": null,
   "id": "52b09622",
   "metadata": {},
   "outputs": [],
   "source": [
    "# %%time\n",
    "import tensorflow as tf\n",
    "from sklearn.metrics import accuracy_score\n",
    "from tqdm.notebook import tqdm\n",
    "\n",
    "device = torch.device(\"cuda:0\" if torch.cuda.is_available() else \"cpu\")\n",
    "print(\"device:\", device)\n",
    "model = model.to(device)\n",
    "\n",
    "model.train()\n",
    "optimizer = torch.optim.Adam(model.parameters(), lr=1e-5)\n",
    "NUM_EPOCHS = 3\n",
    "\n",
    "for epoch in range(NUM_EPOCHS):\n",
    "    train_loss = 0.0\n",
    "    train_acc = 0.0\n",
    "\n",
    "    loop = tqdm(trainloader)\n",
    "    for batch_idx, data in enumerate(loop):\n",
    "        tokens_tensors, segments_tensors, masks_tensors, labels = [t.to(device) for t in data]\n",
    "\n",
    "        optimizer.zero_grad()\n",
    "        \n",
    "        outputs = model(input_ids=tokens_tensors, \n",
    "                        token_type_ids=segments_tensors, \n",
    "                        attention_mask=masks_tensors, \n",
    "                        labels=labels)\n",
    "\n",
    "        loss = outputs[0]\n",
    "        loss.backward()\n",
    "        optimizer.step()\n",
    "\n",
    "        logits = outputs[1]\n",
    "        _, pred = torch.max(logits.data, 1)\n",
    "        train_acc = accuracy_score(pred.cpu().tolist() , labels.cpu().tolist())\n",
    "\n",
    "        train_loss += loss.item()\n",
    "\n",
    "        loop.set_description(f\"Epoch [{epoch+1}/{NUM_EPOCHS}]\")\n",
    "        loop.set_postfix(acc = train_acc, loss = train_loss)"
   ]
  },
  {
   "cell_type": "code",
   "execution_count": 65,
   "id": "24cb05cd",
   "metadata": {},
   "outputs": [
    {
     "name": "stdout",
     "output_type": "stream",
     "text": [
      "Model saved!\n"
     ]
    }
   ],
   "source": [
    "torch.save(model, 'ckp/best_bert_3.pth')\n",
    "print('Model saved!')"
   ]
  },
  {
   "cell_type": "code",
   "execution_count": 69,
   "id": "7562c90c",
   "metadata": {},
   "outputs": [],
   "source": [
    "model_bert = torch.load('ckp/best_bert.pth')\n",
    "# model = model.to(device)"
   ]
  },
  {
   "cell_type": "code",
   "execution_count": 70,
   "id": "ca29de57",
   "metadata": {},
   "outputs": [],
   "source": [
    "true=[]\n",
    "predictions=[]\n",
    "with torch.no_grad():\n",
    "    model_bert.eval()\n",
    "    for data in testloader:\n",
    "        if next(model_bert.parameters()).is_cuda:\n",
    "            data = [t.to(device) for t in data if t is not None]\n",
    "            \n",
    "        tokens_tensors, segments_tensors, masks_tensors = data[:3]\n",
    "        test_outputs = model_bert(input_ids=tokens_tensors, \n",
    "                    token_type_ids=segments_tensors, \n",
    "                    attention_mask=masks_tensors)\n",
    "\n",
    "        logits = test_outputs[0]\n",
    "        _, pred = torch.max(logits.data, 1)\n",
    "\n",
    "        labels = data[3]\n",
    "        true.extend(labels.cpu().tolist())\n",
    "        predictions.extend(pred.cpu().tolist())\n"
   ]
  },
  {
   "cell_type": "code",
   "execution_count": 14,
   "id": "9f3adb01",
   "metadata": {},
   "outputs": [],
   "source": [
    "from sklearn.metrics import confusion_matrix, ConfusionMatrixDisplay"
   ]
  },
  {
   "cell_type": "code",
   "execution_count": 71,
   "id": "aca78638",
   "metadata": {},
   "outputs": [
    {
     "name": "stdout",
     "output_type": "stream",
     "text": [
      "[[  9   1   0   0   0   3   0   0]\n",
      " [  0  59   0   0   0   6   0   0]\n",
      " [  0   0   0   0   0   1   0   1]\n",
      " [  0   0   0  65   0  16   3   0]\n",
      " [  0   0   0   0  75   6   1   1]\n",
      " [  1   5   0   2   7 591   9   5]\n",
      " [  0   6   0   2   1  10  73   3]\n",
      " [  0   1   0   0   0   3   3  29]]\n",
      "Acc:  0.9028056112224448\n"
     ]
    },
    {
     "data": {
      "image/png": "[encoded data removed]",
      "text/plain": [
       "<Figure size 640x480 with 2 Axes>"
      ]
     },
     "metadata": {},
     "output_type": "display_data"
    }
   ],
   "source": [
    "\n",
    "cm = confusion_matrix(true, predictions)\n",
    "print(cm)\n",
    "\n",
    "disp = ConfusionMatrixDisplay(confusion_matrix=cm)\n",
    "disp.plot()\n",
    "\n",
    "print('Acc: ', accuracy_score(predictions,true))"
   ]
  },
  {
   "cell_type": "code",
   "execution_count": 40,
   "id": "80173880",
   "metadata": {},
   "outputs": [
    {
     "data": {
      "text/html": [
       "<div>\n",
       "<style scoped>\n",
       "    .dataframe tbody tr th:only-of-type {\n",
       "        vertical-align: middle;\n",
       "    }\n",
       "\n",
       "    .dataframe tbody tr th {\n",
       "        vertical-align: top;\n",
       "    }\n",
       "\n",
       "    .dataframe thead th {\n",
       "        text-align: right;\n",
       "    }\n",
       "</style>\n",
       "<table border=\"1\" class=\"dataframe\">\n",
       "  <thead>\n",
       "    <tr style=\"text-align: right;\">\n",
       "      <th></th>\n",
       "      <th>text</th>\n",
       "      <th>label</th>\n",
       "      <th>pred_label</th>\n",
       "    </tr>\n",
       "  </thead>\n",
       "  <tbody>\n",
       "    <tr>\n",
       "      <th>0</th>\n",
       "      <td>prabowo kemenhan satgas unhan bantu sukabumi d...</td>\n",
       "      <td>4</td>\n",
       "      <td>4</td>\n",
       "    </tr>\n",
       "    <tr>\n",
       "      <th>1</th>\n",
       "      <td>bawaslu maki jancuk warga gara copot spanduk g...</td>\n",
       "      <td>5</td>\n",
       "      <td>5</td>\n",
       "    </tr>\n",
       "    <tr>\n",
       "      <th>2</th>\n",
       "      <td>nyata timbul hancur pribadi isi penuh benci ay...</td>\n",
       "      <td>5</td>\n",
       "      <td>5</td>\n",
       "    </tr>\n",
       "    <tr>\n",
       "      <th>3</th>\n",
       "      <td>calon presiden ganjar pranowo mahfud regulasi ...</td>\n",
       "      <td>5</td>\n",
       "      <td>5</td>\n",
       "    </tr>\n",
       "    <tr>\n",
       "      <th>4</th>\n",
       "      <td>michael bicara keras kes emosional isi prabowo...</td>\n",
       "      <td>5</td>\n",
       "      <td>5</td>\n",
       "    </tr>\n",
       "  </tbody>\n",
       "</table>\n",
       "</div>"
      ],
      "text/plain": [
       "                                                text  label  pred_label\n",
       "0  prabowo kemenhan satgas unhan bantu sukabumi d...      4           4\n",
       "1  bawaslu maki jancuk warga gara copot spanduk g...      5           5\n",
       "2  nyata timbul hancur pribadi isi penuh benci ay...      5           5\n",
       "3  calon presiden ganjar pranowo mahfud regulasi ...      5           5\n",
       "4  michael bicara keras kes emosional isi prabowo...      5           5"
      ]
     },
     "execution_count": 40,
     "metadata": {},
     "output_type": "execute_result"
    }
   ],
   "source": [
    "df = pd.DataFrame({\"pred_label\": predictions})\n",
    "\n",
    "df_pred = pd.concat([testset.df.loc[:, ['text']], \n",
    "                          testset.df.loc[:, ['label']], \n",
    "                          df.loc[:, 'pred_label']], axis=1)\n",
    "df_pred.to_csv('data/pred/bert_bse.csv', index=False)\n",
    "df_pred.head()"
   ]
  },
  {
   "cell_type": "code",
   "execution_count": 44,
   "id": "2c19fa56",
   "metadata": {},
   "outputs": [
    {
     "data": {
      "image/png": "[encoded data removed]",
      "text/plain": [
       "<Figure size 640x480 with 1 Axes>"
      ]
     },
     "metadata": {},
     "output_type": "display_data"
    }
   ],
   "source": [
    "wrong_df = df_pred[df_pred.label != df_pred.pred_label]\n",
    "sns.countplot(y=\"label\", palette=\"coolwarm\", data=wrong_df).set_title('Wrong Classification Result')\n",
    "plt.show()"
   ]
  },
  {
   "cell_type": "code",
   "execution_count": 47,
   "id": "881d873e",
   "metadata": {},
   "outputs": [
    {
     "data": {
      "text/html": [
       "<div>\n",
       "<style scoped>\n",
       "    .dataframe tbody tr th:only-of-type {\n",
       "        vertical-align: middle;\n",
       "    }\n",
       "\n",
       "    .dataframe tbody tr th {\n",
       "        vertical-align: top;\n",
       "    }\n",
       "\n",
       "    .dataframe thead th {\n",
       "        text-align: right;\n",
       "    }\n",
       "</style>\n",
       "<table border=\"1\" class=\"dataframe\">\n",
       "  <thead>\n",
       "    <tr style=\"text-align: right;\">\n",
       "      <th></th>\n",
       "      <th>text</th>\n",
       "      <th>label</th>\n",
       "      <th>pred_label</th>\n",
       "    </tr>\n",
       "  </thead>\n",
       "  <tbody>\n",
       "    <tr>\n",
       "      <th>16</th>\n",
       "      <td>menkominfo prabowo tahan sifat rahasia</td>\n",
       "      <td>4</td>\n",
       "      <td>5</td>\n",
       "    </tr>\n",
       "    <tr>\n",
       "      <th>49</th>\n",
       "      <td>rakyat alami tolong negara damping acara negar...</td>\n",
       "      <td>6</td>\n",
       "      <td>5</td>\n",
       "    </tr>\n",
       "    <tr>\n",
       "      <th>55</th>\n",
       "      <td>quote anies negara atur pikir orang negara atu...</td>\n",
       "      <td>3</td>\n",
       "      <td>5</td>\n",
       "    </tr>\n",
       "    <tr>\n",
       "      <th>58</th>\n",
       "      <td>kapolri jendral listyo sigit prabowo hadir ray...</td>\n",
       "      <td>6</td>\n",
       "      <td>5</td>\n",
       "    </tr>\n",
       "    <tr>\n",
       "      <th>61</th>\n",
       "      <td>golput pilih capres ganjar pranowo mahfud ganj...</td>\n",
       "      <td>2</td>\n",
       "      <td>5</td>\n",
       "    </tr>\n",
       "  </tbody>\n",
       "</table>\n",
       "</div>"
      ],
      "text/plain": [
       "                                                 text  label  pred_label\n",
       "16             menkominfo prabowo tahan sifat rahasia      4           5\n",
       "49  rakyat alami tolong negara damping acara negar...      6           5\n",
       "55  quote anies negara atur pikir orang negara atu...      3           5\n",
       "58  kapolri jendral listyo sigit prabowo hadir ray...      6           5\n",
       "61  golput pilih capres ganjar pranowo mahfud ganj...      2           5"
      ]
     },
     "execution_count": 47,
     "metadata": {},
     "output_type": "execute_result"
    }
   ],
   "source": [
    "wrong_df.to_csv('data/pred/wrong_bert_bse.csv', index=False)\n",
    "wrong_df.head()"
   ]
  },
  {
   "cell_type": "code",
   "execution_count": 12,
   "id": "550c1519",
   "metadata": {},
   "outputs": [],
   "source": [
    "true=[]\n",
    "predictions=[]\n",
    "with torch.no_grad():\n",
    "    model_bert.eval()\n",
    "    for data in trainloader:\n",
    "        if next(model_bert.parameters()).is_cuda:\n",
    "            data = [t.to(device) for t in data if t is not None]\n",
    "            \n",
    "        tokens_tensors, segments_tensors, masks_tensors = data[:3]\n",
    "        test_outputs = model_bert(input_ids=tokens_tensors, \n",
    "                    token_type_ids=segments_tensors, \n",
    "                    attention_mask=masks_tensors)\n",
    "\n",
    "        logits = test_outputs[0]\n",
    "        _, pred = torch.max(logits.data, 1)\n",
    "\n",
    "        labels = data[3]\n",
    "        true.extend(labels.cpu().tolist())\n",
    "        predictions.extend(pred.cpu().tolist())\n"
   ]
  },
  {
   "cell_type": "code",
   "execution_count": 15,
   "id": "b6d1dca5",
   "metadata": {},
   "outputs": [
    {
     "name": "stdout",
     "output_type": "stream",
     "text": [
      "[[  18    1    0    1    1    5    8    2]\n",
      " [   0  208    0    0    1   17    2    4]\n",
      " [   0    1    6    0    0    4    1    2]\n",
      " [   0    4    0  200    0   45    7    1]\n",
      " [   1    1    0    3  218   24    1    0]\n",
      " [   0   26    0    3   21 1792   27   12]\n",
      " [   2    3    0    4    1   49  331    6]\n",
      " [   0    9    0    1    0   16    3  101]]\n",
      "Acc:  0.8998121477770821\n"
     ]
    },
    {
     "data": {
      "image/png": "[encoded data removed]",
      "text/plain": [
       "<Figure size 640x480 with 2 Axes>"
      ]
     },
     "metadata": {},
     "output_type": "display_data"
    }
   ],
   "source": [
    "cm = confusion_matrix(true, predictions)\n",
    "print(cm)\n",
    "\n",
    "disp = ConfusionMatrixDisplay(confusion_matrix=cm)\n",
    "disp.plot()\n",
    "\n",
    "print('Acc: ', accuracy_score(predictions,true))"
   ]
  },
  {
   "cell_type": "markdown",
   "id": "e1927f92",
   "metadata": {},
   "source": [
    "## Bert - CNN"
   ]
  },
  {
   "cell_type": "code",
   "execution_count": 28,
   "id": "26884e30",
   "metadata": {},
   "outputs": [],
   "source": [
    "import torch\n",
    "import torch.nn as nn\n",
    "import torch.optim as optim\n",
    "from transformers import BertModel, BertTokenizer\n",
    "\n",
    "class BertCNNModel(nn.Module):\n",
    "    def __init__(self, bert_model_name):\n",
    "        super(BertCNNModel, self).__init__()\n",
    "        self.bert = BertModel.from_pretrained(bert_model_name)\n",
    "        self.conv1 = nn.Conv1d(in_channels=768, out_channels=256, kernel_size=3, padding=1)\n",
    "        self.relu = nn.ReLU()\n",
    "        self.pool = nn.MaxPool1d(kernel_size=2)\n",
    "        self.fc = nn.Linear(256 * 64, 8)  # Assuming output classes are 2\n",
    "        self.flat = nn.Flatten()\n",
    "        self.softmax = nn.LogSoftmax(dim=1)\n",
    "\n",
    "    def forward(self, input_ids, token_type_ids=None, attention_mask=None, labels=None):\n",
    "        outputs = self.bert(input_ids, token_type_ids=token_type_ids, attention_mask=attention_mask)\n",
    "        last_hidden_state = outputs[0]\n",
    "        x = last_hidden_state.permute(0, 2, 1)\n",
    "        x = self.conv1(x)\n",
    "        x = self.relu(x)\n",
    "        x = self.pool(x)\n",
    "        x = self.fc(x)\n",
    "        x = x.view(x.size(0), -1)\n",
    "        logits = self.softmax(x)\n",
    "        \n",
    "        loss = None\n",
    "        if labels is not None:\n",
    "            loss_fn = nn.CrossEntropyLoss()\n",
    "            loss = loss_fn(logits, labels)\n",
    "        \n",
    "        return (loss, logits) if loss is not None else logits\n",
    "\n",
    "model = BertCNNModel(PRETRAINED_MODEL_NAME)\n"
   ]
  },
  {
   "cell_type": "code",
   "execution_count": 29,
   "id": "3dd41a32",
   "metadata": {},
   "outputs": [
    {
     "name": "stdout",
     "output_type": "stream",
     "text": [
      "device: cpu\n"
     ]
    },
    {
     "data": {
      "application/vnd.jupyter.widget-view+json": {
       "model_id": "ee4108fa9970456c934cd02993383bcf",
       "version_major": 2,
       "version_minor": 0
      },
      "text/plain": [
       "  0%|          | 0/200 [00:00<?, ?it/s]"
      ]
     },
     "metadata": {},
     "output_type": "display_data"
    },
    {
     "ename": "RuntimeError",
     "evalue": "mat1 and mat2 shapes cannot be multiplied (4096x11 and 16384x8)",
     "output_type": "error",
     "traceback": [
      "\u001b[0;31m---------------------------------------------------------------------------\u001b[0m",
      "\u001b[0;31mRuntimeError\u001b[0m                              Traceback (most recent call last)",
      "Cell \u001b[0;32mIn[29], line 19\u001b[0m\n\u001b[1;32m     15\u001b[0m tokens_tensors, segments_tensors, masks_tensors, labels \u001b[39m=\u001b[39m [t\u001b[39m.\u001b[39mto(device) \u001b[39mfor\u001b[39;00m t \u001b[39min\u001b[39;00m data]\n\u001b[1;32m     17\u001b[0m optimizer\u001b[39m.\u001b[39mzero_grad()\n\u001b[0;32m---> 19\u001b[0m outputs \u001b[39m=\u001b[39m model(input_ids\u001b[39m=\u001b[39;49mtokens_tensors, \n\u001b[1;32m     20\u001b[0m                 token_type_ids\u001b[39m=\u001b[39;49msegments_tensors, \n\u001b[1;32m     21\u001b[0m                 attention_mask\u001b[39m=\u001b[39;49mmasks_tensors, \n\u001b[1;32m     22\u001b[0m                 labels\u001b[39m=\u001b[39;49mlabels)\n\u001b[1;32m     24\u001b[0m loss \u001b[39m=\u001b[39m outputs[\u001b[39m0\u001b[39m]\n\u001b[1;32m     25\u001b[0m loss\u001b[39m.\u001b[39mbackward()\n",
      "File \u001b[0;32m/Library/Frameworks/Python.framework/Versions/3.8/lib/python3.8/site-packages/torch/nn/modules/module.py:1511\u001b[0m, in \u001b[0;36mModule._wrapped_call_impl\u001b[0;34m(self, *args, **kwargs)\u001b[0m\n\u001b[1;32m   1509\u001b[0m     \u001b[39mreturn\u001b[39;00m \u001b[39mself\u001b[39m\u001b[39m.\u001b[39m_compiled_call_impl(\u001b[39m*\u001b[39margs, \u001b[39m*\u001b[39m\u001b[39m*\u001b[39mkwargs)  \u001b[39m# type: ignore[misc]\u001b[39;00m\n\u001b[1;32m   1510\u001b[0m \u001b[39melse\u001b[39;00m:\n\u001b[0;32m-> 1511\u001b[0m     \u001b[39mreturn\u001b[39;00m \u001b[39mself\u001b[39;49m\u001b[39m.\u001b[39;49m_call_impl(\u001b[39m*\u001b[39;49margs, \u001b[39m*\u001b[39;49m\u001b[39m*\u001b[39;49mkwargs)\n",
      "File \u001b[0;32m/Library/Frameworks/Python.framework/Versions/3.8/lib/python3.8/site-packages/torch/nn/modules/module.py:1520\u001b[0m, in \u001b[0;36mModule._call_impl\u001b[0;34m(self, *args, **kwargs)\u001b[0m\n\u001b[1;32m   1515\u001b[0m \u001b[39m# If we don't have any hooks, we want to skip the rest of the logic in\u001b[39;00m\n\u001b[1;32m   1516\u001b[0m \u001b[39m# this function, and just call forward.\u001b[39;00m\n\u001b[1;32m   1517\u001b[0m \u001b[39mif\u001b[39;00m \u001b[39mnot\u001b[39;00m (\u001b[39mself\u001b[39m\u001b[39m.\u001b[39m_backward_hooks \u001b[39mor\u001b[39;00m \u001b[39mself\u001b[39m\u001b[39m.\u001b[39m_backward_pre_hooks \u001b[39mor\u001b[39;00m \u001b[39mself\u001b[39m\u001b[39m.\u001b[39m_forward_hooks \u001b[39mor\u001b[39;00m \u001b[39mself\u001b[39m\u001b[39m.\u001b[39m_forward_pre_hooks\n\u001b[1;32m   1518\u001b[0m         \u001b[39mor\u001b[39;00m _global_backward_pre_hooks \u001b[39mor\u001b[39;00m _global_backward_hooks\n\u001b[1;32m   1519\u001b[0m         \u001b[39mor\u001b[39;00m _global_forward_hooks \u001b[39mor\u001b[39;00m _global_forward_pre_hooks):\n\u001b[0;32m-> 1520\u001b[0m     \u001b[39mreturn\u001b[39;00m forward_call(\u001b[39m*\u001b[39;49margs, \u001b[39m*\u001b[39;49m\u001b[39m*\u001b[39;49mkwargs)\n\u001b[1;32m   1522\u001b[0m \u001b[39mtry\u001b[39;00m:\n\u001b[1;32m   1523\u001b[0m     result \u001b[39m=\u001b[39m \u001b[39mNone\u001b[39;00m\n",
      "Cell \u001b[0;32mIn[28], line 24\u001b[0m, in \u001b[0;36mBertCNNModel.forward\u001b[0;34m(self, input_ids, token_type_ids, attention_mask, labels)\u001b[0m\n\u001b[1;32m     22\u001b[0m x \u001b[39m=\u001b[39m \u001b[39mself\u001b[39m\u001b[39m.\u001b[39mrelu(x)\n\u001b[1;32m     23\u001b[0m x \u001b[39m=\u001b[39m \u001b[39mself\u001b[39m\u001b[39m.\u001b[39mpool(x)\n\u001b[0;32m---> 24\u001b[0m x \u001b[39m=\u001b[39m \u001b[39mself\u001b[39;49m\u001b[39m.\u001b[39;49mfc(x)\n\u001b[1;32m     25\u001b[0m x \u001b[39m=\u001b[39m x\u001b[39m.\u001b[39mview(x\u001b[39m.\u001b[39msize(\u001b[39m0\u001b[39m), \u001b[39m-\u001b[39m\u001b[39m1\u001b[39m)\n\u001b[1;32m     26\u001b[0m logits \u001b[39m=\u001b[39m \u001b[39mself\u001b[39m\u001b[39m.\u001b[39msoftmax(x)\n",
      "File \u001b[0;32m/Library/Frameworks/Python.framework/Versions/3.8/lib/python3.8/site-packages/torch/nn/modules/module.py:1511\u001b[0m, in \u001b[0;36mModule._wrapped_call_impl\u001b[0;34m(self, *args, **kwargs)\u001b[0m\n\u001b[1;32m   1509\u001b[0m     \u001b[39mreturn\u001b[39;00m \u001b[39mself\u001b[39m\u001b[39m.\u001b[39m_compiled_call_impl(\u001b[39m*\u001b[39margs, \u001b[39m*\u001b[39m\u001b[39m*\u001b[39mkwargs)  \u001b[39m# type: ignore[misc]\u001b[39;00m\n\u001b[1;32m   1510\u001b[0m \u001b[39melse\u001b[39;00m:\n\u001b[0;32m-> 1511\u001b[0m     \u001b[39mreturn\u001b[39;00m \u001b[39mself\u001b[39;49m\u001b[39m.\u001b[39;49m_call_impl(\u001b[39m*\u001b[39;49margs, \u001b[39m*\u001b[39;49m\u001b[39m*\u001b[39;49mkwargs)\n",
      "File \u001b[0;32m/Library/Frameworks/Python.framework/Versions/3.8/lib/python3.8/site-packages/torch/nn/modules/module.py:1520\u001b[0m, in \u001b[0;36mModule._call_impl\u001b[0;34m(self, *args, **kwargs)\u001b[0m\n\u001b[1;32m   1515\u001b[0m \u001b[39m# If we don't have any hooks, we want to skip the rest of the logic in\u001b[39;00m\n\u001b[1;32m   1516\u001b[0m \u001b[39m# this function, and just call forward.\u001b[39;00m\n\u001b[1;32m   1517\u001b[0m \u001b[39mif\u001b[39;00m \u001b[39mnot\u001b[39;00m (\u001b[39mself\u001b[39m\u001b[39m.\u001b[39m_backward_hooks \u001b[39mor\u001b[39;00m \u001b[39mself\u001b[39m\u001b[39m.\u001b[39m_backward_pre_hooks \u001b[39mor\u001b[39;00m \u001b[39mself\u001b[39m\u001b[39m.\u001b[39m_forward_hooks \u001b[39mor\u001b[39;00m \u001b[39mself\u001b[39m\u001b[39m.\u001b[39m_forward_pre_hooks\n\u001b[1;32m   1518\u001b[0m         \u001b[39mor\u001b[39;00m _global_backward_pre_hooks \u001b[39mor\u001b[39;00m _global_backward_hooks\n\u001b[1;32m   1519\u001b[0m         \u001b[39mor\u001b[39;00m _global_forward_hooks \u001b[39mor\u001b[39;00m _global_forward_pre_hooks):\n\u001b[0;32m-> 1520\u001b[0m     \u001b[39mreturn\u001b[39;00m forward_call(\u001b[39m*\u001b[39;49margs, \u001b[39m*\u001b[39;49m\u001b[39m*\u001b[39;49mkwargs)\n\u001b[1;32m   1522\u001b[0m \u001b[39mtry\u001b[39;00m:\n\u001b[1;32m   1523\u001b[0m     result \u001b[39m=\u001b[39m \u001b[39mNone\u001b[39;00m\n",
      "File \u001b[0;32m/Library/Frameworks/Python.framework/Versions/3.8/lib/python3.8/site-packages/torch/nn/modules/linear.py:116\u001b[0m, in \u001b[0;36mLinear.forward\u001b[0;34m(self, input)\u001b[0m\n\u001b[1;32m    115\u001b[0m \u001b[39mdef\u001b[39;00m \u001b[39mforward\u001b[39m(\u001b[39mself\u001b[39m, \u001b[39minput\u001b[39m: Tensor) \u001b[39m-\u001b[39m\u001b[39m>\u001b[39m Tensor:\n\u001b[0;32m--> 116\u001b[0m     \u001b[39mreturn\u001b[39;00m F\u001b[39m.\u001b[39;49mlinear(\u001b[39minput\u001b[39;49m, \u001b[39mself\u001b[39;49m\u001b[39m.\u001b[39;49mweight, \u001b[39mself\u001b[39;49m\u001b[39m.\u001b[39;49mbias)\n",
      "\u001b[0;31mRuntimeError\u001b[0m: mat1 and mat2 shapes cannot be multiplied (4096x11 and 16384x8)"
     ]
    }
   ],
   "source": [
    "device = torch.device(\"cuda:0\" if torch.cuda.is_available() else \"cpu\")\n",
    "print(\"device:\", device)\n",
    "model = model.to(device)\n",
    "\n",
    "model.train()\n",
    "optimizer = optim.Adam(model.parameters(), lr=1e-5)\n",
    "NUM_EPOCHS = 3\n",
    "\n",
    "for epoch in range(NUM_EPOCHS):\n",
    "    train_loss = 0.0\n",
    "    train_acc = 0.0\n",
    "\n",
    "    loop = tqdm(trainloader)\n",
    "    for batch_idx, data in enumerate(loop):\n",
    "        tokens_tensors, segments_tensors, masks_tensors, labels = [t.to(device) for t in data]\n",
    "\n",
    "        optimizer.zero_grad()\n",
    "        \n",
    "        outputs = model(input_ids=tokens_tensors, \n",
    "                        token_type_ids=segments_tensors, \n",
    "                        attention_mask=masks_tensors, \n",
    "                        labels=labels)\n",
    "\n",
    "        loss = outputs[0]\n",
    "        loss.backward()\n",
    "        optimizer.step()\n",
    "\n",
    "        logits = outputs[1]\n",
    "        _, pred = torch.max(logits.data, 1)\n",
    "        train_acc = accuracy_score(pred.cpu().tolist(), labels.cpu().tolist())\n",
    "\n",
    "        train_loss += loss.item()\n",
    "\n",
    "        loop.set_description(f\"Epoch [{epoch+1}/{NUM_EPOCHS}]\")\n",
    "        loop.set_postfix(acc=train_acc, loss=train_loss)\n"
   ]
  },
  {
   "cell_type": "code",
   "execution_count": null,
   "id": "cfcc1c2b",
   "metadata": {},
   "outputs": [],
   "source": [
    "true = []\n",
    "predictions = []\n",
    "\n",
    "with torch.no_grad():\n",
    "    model.eval()\n",
    "    for data in testloader:\n",
    "        if next(model.parameters()).is_cuda:\n",
    "            data = [t.to(device) for t in data if t is not None]\n",
    "            \n",
    "        tokens_tensors, segments_tensors, masks_tensors = data[:3]\n",
    "        test_outputs = model(input_ids=tokens_tensors, \n",
    "                             token_type_ids=segments_tensors, \n",
    "                             attention_mask=masks_tensors)\n",
    "\n",
    "        logits = test_outputs\n",
    "        _, pred = torch.max(logits.data, 1)\n",
    "\n",
    "        labels = data[3]\n",
    "        true.extend(labels.cpu().tolist())\n",
    "        predictions.extend(pred.cpu().tolist())\n"
   ]
  },
  {
   "cell_type": "code",
   "execution_count": 56,
   "id": "f70fc68f",
   "metadata": {},
   "outputs": [
    {
     "name": "stdout",
     "output_type": "stream",
     "text": [
      "Model saved!\n"
     ]
    }
   ],
   "source": [
    "torch.save(model, 'ckp/best_cnnbert.pth')\n",
    "print('Model saved!')"
   ]
  },
  {
   "cell_type": "code",
   "execution_count": 60,
   "id": "242912e2",
   "metadata": {},
   "outputs": [
    {
     "data": {
      "image/png": "[encoded data removed]",
      "text/plain": [
       "<Figure size 800x600 with 2 Axes>"
      ]
     },
     "metadata": {},
     "output_type": "display_data"
    },
    {
     "name": "stdout",
     "output_type": "stream",
     "text": [
      "Acc:  0.749498997995992\n"
     ]
    }
   ],
   "source": [
    "from sklearn.metrics import confusion_matrix\n",
    "import numpy as np\n",
    "import seaborn as sns\n",
    "import matplotlib.pyplot as plt\n",
    "\n",
    "# Function to plot confusion matrix\n",
    "def plot_confusion_matrix(y_true, y_pred):\n",
    "    cm = confusion_matrix(y_true, y_pred)\n",
    "    disp = ConfusionMatrixDisplay(confusion_matrix=cm)\n",
    "    disp.plot()\n",
    "\n",
    "    plt.figure(figsize=(8, 6))\n",
    "    sns.heatmap(cm, annot=True, fmt=\".2f\", cmap=\"Blues\")\n",
    "    plt.xlabel('Predicted labels')\n",
    "    plt.ylabel('True labels')\n",
    "    plt.title('Confusion Matrix')\n",
    "    plt.show()\n",
    "\n",
    "# Function to get predictions and true labels\n",
    "def get_predictions_and_labels(model, testloader):\n",
    "    model.eval()\n",
    "    all_preds = []\n",
    "    all_labels = []\n",
    "\n",
    "    with torch.no_grad():\n",
    "        for data in testloader:\n",
    "            tokens_tensors, segments_tensors, masks_tensors, labels = [t.to(device) for t in data]\n",
    "\n",
    "            # Forward pass\n",
    "            outputs = model(input_ids=tokens_tensors, \n",
    "                            attention_mask=masks_tensors, \n",
    "                            token_type_ids=segments_tensors)\n",
    "\n",
    "            logits = outputs\n",
    "            _, preds = torch.max(logits, 1)\n",
    "\n",
    "            all_preds.extend(preds.cpu().numpy())\n",
    "            all_labels.extend(labels.cpu().numpy())\n",
    "\n",
    "    return all_preds, all_labels\n",
    "\n",
    "# Get predictions and true labels\n",
    "predictions, labels = get_predictions_and_labels(model, testloader)\n",
    "\n",
    "# Plot confusion matrix\n",
    "plot_confusion_matrix(labels, predictions)\n",
    "print('Acc: ', accuracy_score(predictions,labels))\n"
   ]
  },
  {
   "cell_type": "code",
   "execution_count": null,
   "id": "7711a0ca",
   "metadata": {},
   "outputs": [],
   "source": [
    "true=[]\n",
    "predictions=[]\n",
    "with torch.no_grad():\n",
    "    model.eval()\n",
    "    for data in testloader:\n",
    "        if next(model.parameters()).is_cuda:\n",
    "            data = [t.to(device) for t in data if t is not None]\n",
    "            \n",
    "        tokens_tensors, segments_tensors, masks_tensors = data[:3]\n",
    "        test_outputs = model(input_ids=tokens_tensors, \n",
    "                    token_type_ids=segments_tensors, \n",
    "                    attention_mask=masks_tensors)\n",
    "\n",
    "        logits = test_outputs[0]\n",
    "        _, pred = torch.max(logits.data, 1)\n",
    "\n",
    "        labels = data[3]\n",
    "        true.extend(labels.cpu().tolist())\n",
    "        predictions.extend(pred.cpu().tolist())"
   ]
  },
  {
   "cell_type": "code",
   "execution_count": 133,
   "id": "b3582921",
   "metadata": {},
   "outputs": [
    {
     "name": "stdout",
     "output_type": "stream",
     "text": [
      "Shape of logits before reshaping: torch.Size([8])\n",
      "Shape of logits after reshaping: torch.Size([1, 8])\n"
     ]
    }
   ],
   "source": [
    "test_outputs = model(input_ids=tokens_tensors, \n",
    "                     token_type_ids=segments_tensors, \n",
    "                     attention_mask=masks_tensors)\n",
    "\n",
    "logits = test_outputs[0]\n",
    "print(\"Shape of logits before reshaping:\", logits.shape)\n",
    "\n",
    "# Ensure logits has the shape [batch_size, num_classes]\n",
    "if len(logits.shape) == 1:\n",
    "    logits = logits.view(1, -1)  # Reshape to [1, num_classes]\n",
    "\n",
    "print(\"Shape of logits after reshaping:\", logits.shape)\n",
    "assert len(logits.shape) == 2, f\"Expected logits to be 2-dimensional, got {logits.shape}\"\n",
    "\n",
    "# Use torch.max with the correct dimension\n",
    "_, pred = torch.max(logits.data, 1)\n",
    "\n",
    "labels = data[3]\n",
    "true.extend(labels.cpu().tolist())\n"
   ]
  },
  {
   "cell_type": "code",
   "execution_count": null,
   "id": "1c3e0f02",
   "metadata": {},
   "outputs": [
    {
     "name": "stdout",
     "output_type": "stream",
     "text": [
      "[[  0   0   0   0  11   0   0   2]\n",
      " [  0   2   1   1  38   0   0  23]\n",
      " [  0   0   0   0   2   0   0   0]\n",
      " [  1   2   2   0  61   9   0   9]\n",
      " [  0   5   2   0  69   1   0   6]\n",
      " [  0  16   4   0 538   3   0  59]\n",
      " [  0   6   0   0  80   0   0   9]\n",
      " [  0   1   0   0  29   0   0   6]]\n",
      "Acc:  0.08016032064128256\n"
     ]
    },
    {
     "data": {
      "image/png": "[encoded data removed]",
      "text/plain": [
       "<Figure size 640x480 with 2 Axes>"
      ]
     },
     "metadata": {},
     "output_type": "display_data"
    }
   ],
   "source": [
    "from sklearn.metrics import confusion_matrix, ConfusionMatrixDisplay\n",
    "\n",
    "cm = confusion_matrix(true, predictions)\n",
    "print(cm)\n",
    "\n",
    "disp = ConfusionMatrixDisplay(confusion_matrix=cm)\n",
    "disp.plot()\n",
    "\n",
    "print('Acc: ', accuracy_score(predictions,true))"
   ]
  }
 ],
 "metadata": {
  "kernelspec": {
   "display_name": "Python 3",
   "language": "python",
   "name": "python3"
  },
  "language_info": {
   "codemirror_mode": {
    "name": "ipython",
    "version": 3
   },
   "file_extension": ".py",
   "mimetype": "text/x-python",
   "name": "python",
   "nbconvert_exporter": "python",
   "pygments_lexer": "ipython3",
   "version": "3.8.10"
  }
 },
 "nbformat": 4,
 "nbformat_minor": 5
}
